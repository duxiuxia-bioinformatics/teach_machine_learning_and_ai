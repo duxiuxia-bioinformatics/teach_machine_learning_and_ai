{
 "cells": [
  {
   "cell_type": "markdown",
   "id": "c94ec5a5",
   "metadata": {},
   "source": [
    "# Principal Component Analysis\n",
    "\n",
    "This jupyter notebook illustrates the basics of PCA."
   ]
  },
  {
   "cell_type": "code",
   "execution_count": 11,
   "id": "bd2f2e3b",
   "metadata": {},
   "outputs": [],
   "source": [
    "import numpy as np\n",
    "import matplotlib.pyplot as plt\n",
    "import pandas as pd\n",
    "\n",
    "from sklearn.preprocessing import StandardScaler\n",
    "from sklearn.decomposition import PCA\n",
    "\n",
    "import d_PCA\n",
    "\n",
    "%matplotlib inline "
   ]
  },
  {
   "cell_type": "markdown",
   "id": "5ab7ea66",
   "metadata": {},
   "source": [
    "## Linearly correlated toy data with two variables"
   ]
  },
  {
   "cell_type": "code",
   "execution_count": 14,
   "id": "d8a7ebc0",
   "metadata": {},
   "outputs": [],
   "source": [
    "# 1. generate the raw data\n",
    "x1 = np.arange(start=0, stop=20, step=0.1)\n",
    "num_of_samples = len(x1)\n",
    "\n",
    "standard_deviation = 0.5\n",
    "\n",
    "cur_scale = standard_deviation\n",
    "\n",
    "x2 = 2 * x1 + np.random.normal(loc=0, scale=cur_scale, size=num_of_samples)"
   ]
  },
  {
   "cell_type": "code",
   "execution_count": 15,
   "id": "3d69b9d0",
   "metadata": {},
   "outputs": [
    {
     "data": {
      "image/png": "[encoded data removed]",
      "text/plain": [
       "<Figure size 432x288 with 1 Axes>"
      ]
     },
     "metadata": {
      "needs_background": "light"
     },
     "output_type": "display_data"
    }
   ],
   "source": [
    "# 2. visualize the raw data\n",
    "fig = plt.figure()\n",
    "ax = fig.add_subplot(1, 1, 1)\n",
    "ax.scatter(x1, x2, color='blue')\n",
    "ax.set_xlabel('x1')\n",
    "ax.set_ylabel('x2')\n",
    "ax.set_aspect('equal', 'box')"
   ]
  },
  {
   "cell_type": "code",
   "execution_count": 17,
   "id": "a55f9927",
   "metadata": {},
   "outputs": [
    {
     "ename": "AttributeError",
     "evalue": "module 'd_PCA' has no attribute 'MyPCA'",
     "output_type": "error",
     "traceback": [
      "\u001b[0;31m---------------------------------------------------------------------------\u001b[0m",
      "\u001b[0;31mAttributeError\u001b[0m                            Traceback (most recent call last)",
      "\u001b[0;32m<ipython-input-17-456048ffdba9>\u001b[0m in \u001b[0;36m<module>\u001b[0;34m\u001b[0m\n\u001b[1;32m      4\u001b[0m \u001b[0mnum_of_components\u001b[0m \u001b[0;34m=\u001b[0m \u001b[0mmin\u001b[0m\u001b[0;34m(\u001b[0m\u001b[0mdataForAnalysis\u001b[0m\u001b[0;34m.\u001b[0m\u001b[0mshape\u001b[0m\u001b[0;34m[\u001b[0m\u001b[0;36m0\u001b[0m\u001b[0;34m]\u001b[0m\u001b[0;34m,\u001b[0m \u001b[0mdataForAnalysis\u001b[0m\u001b[0;34m.\u001b[0m\u001b[0mshape\u001b[0m\u001b[0;34m[\u001b[0m\u001b[0;36m1\u001b[0m\u001b[0;34m]\u001b[0m\u001b[0;34m)\u001b[0m\u001b[0;34m\u001b[0m\u001b[0;34m\u001b[0m\u001b[0m\n\u001b[1;32m      5\u001b[0m \u001b[0;34m\u001b[0m\u001b[0m\n\u001b[0;32m----> 6\u001b[0;31m \u001b[0mobject_pca\u001b[0m \u001b[0;34m=\u001b[0m \u001b[0md_PCA\u001b[0m\u001b[0;34m.\u001b[0m\u001b[0mMyPCA\u001b[0m\u001b[0;34m(\u001b[0m\u001b[0mnum_of_components\u001b[0m\u001b[0;34m=\u001b[0m\u001b[0mnum_of_components\u001b[0m\u001b[0;34m)\u001b[0m\u001b[0;34m\u001b[0m\u001b[0;34m\u001b[0m\u001b[0m\n\u001b[0m\u001b[1;32m      7\u001b[0m \u001b[0mpca_results\u001b[0m \u001b[0;34m=\u001b[0m \u001b[0mobject_pca\u001b[0m\u001b[0;34m.\u001b[0m\u001b[0mfit_transform\u001b[0m\u001b[0;34m(\u001b[0m\u001b[0mx\u001b[0m\u001b[0;34m=\u001b[0m\u001b[0mdataForAnalysis\u001b[0m\u001b[0;34m,\u001b[0m \u001b[0mcorr_logic\u001b[0m\u001b[0;34m=\u001b[0m\u001b[0muse_corr\u001b[0m\u001b[0;34m)\u001b[0m\u001b[0;34m\u001b[0m\u001b[0;34m\u001b[0m\u001b[0m\n\u001b[1;32m      8\u001b[0m \u001b[0;34m\u001b[0m\u001b[0m\n",
      "\u001b[0;31mAttributeError\u001b[0m: module 'd_PCA' has no attribute 'MyPCA'"
     ]
    }
   ],
   "source": [
    "# 3. do PCA\n",
    "dataForAnalysis = np.column_stack((x1, x2))\n",
    "\n",
    "num_of_components = min(dataForAnalysis.shape[0], dataForAnalysis.shape[1])\n",
    "\n",
    "object_pca = d_PCA.MyPCA(num_of_components=num_of_components)\n",
    "pca_results = object_pca.fit_transform(x=dataForAnalysis, corr_logic=use_corr)\n",
    "\n",
    "# scree plot\n",
    "fig, ax = plt.subplots()\n",
    "ax.scatter(range(len(pca_results['percent_variance_explained'])), pca_results['percent_variance_explained'], color='blue')\n",
    "ax.set_title('scree plot')\n",
    "ax.set_xlabel('PC index')\n",
    "ax.set_ylabel('percent variance explained')\n",
    "ax.set_ylim((-10.0, 110.0))"
   ]
  },
  {
   "cell_type": "code",
   "execution_count": null,
   "id": "c85caeef",
   "metadata": {},
   "outputs": [],
   "source": [
    "# scores plot\n",
    "fig, ax = plt.subplots()\n",
    "ax.scatter(pca_results['scores'][:, 0], pca_results['scores'][:, 1], color='blue')\n",
    "ax.set_title('scores plot')\n",
    "ax.set_xlabel('PC1')\n",
    "ax.set_ylabel('PC2')\n",
    "fig.show()\n",
    "\n",
    "fig, ax = plt.subplots()\n",
    "ax.scatter(pca_results['scores'][:, 0], pca_results['scores'][:, 1], color='blue')\n",
    "ax.set_title('scores plot')\n",
    "ax.set_xlabel('PC1')\n",
    "ax.set_ylabel('PC2')\n",
    "ax.set_ylim((2*min(pca_results['scores'][:, 1]), max(x2)))\n",
    "fig.show()"
   ]
  },
  {
   "cell_type": "code",
   "execution_count": null,
   "id": "cc2af6ea",
   "metadata": {},
   "outputs": [],
   "source": [
    "# loadings plot\n",
    "fig, ax = plt.subplots()\n",
    "ax.scatter(pca_results['loadings'][:, 0], pca_results['loadings'][:, 1], color='blue')\n",
    "ax.set_title('loadings plot')\n",
    "ax.set_xlabel('PC1')\n",
    "ax.set_ylabel('PC2')\n",
    "for i in range(pca_results['loadings'].shape[0]):\n",
    "ax.text(pca_results['loadings'][i, 0], pca_results['loadings'][i, 1], 'x'+str(i+1))\n",
    "fig.show()\n",
    "\n",
    "# PCA in the context of the raw data\n",
    "fig, ax = plt.subplots()\n",
    "k = -20\n",
    "ax.scatter(x1, x2, color='blue')\n",
    "ax.plot([0, -20*pca_results['loadings'][0, 0]], [0, -20*pca_results['loadings'][1, 0]],\n",
    "    color='red', linewidth=3, label='PC 1')\n",
    "ax.plot([0, 20 * pca_results['loadings'][0, 1]], [0, 20 * pca_results['loadings'][1, 1]],\n",
    "    color='green', linewidth=3, label='PC 2')\n",
    "ax.set_title('raw data and PC axis')\n",
    "ax.set_aspect('equal', 'box')\n",
    "ax.set_xlabel('x1')\n",
    "ax.set_ylabel('x2')\n",
    "ax.legend()\n",
    "fig.show()\n",
    "\n",
    "# PCA in the context of the raw data\n",
    "k = 20\n",
    "fig, ax = plt.subplots()\n",
    "ax.scatter(x1, x2, color='blue')\n",
    "ax.plot([0, k*pca_results['loadings'][0, 0]], [0, k*pca_results['loadings'][1, 0]],\n",
    "    color='red', linewidth=3, label='PC 1')\n",
    "ax.plot([0, (-k) * pca_results['loadings'][0, 1]], [0, (-k) * pca_results['loadings'][1, 1]],\n",
    "    color='green', linewidth=3, label='PC 2')\n",
    "ax.set_title('raw data and PC axis')\n",
    "ax.set_aspect('equal', 'box')\n",
    "ax.set_xlabel('x1')\n",
    "ax.set_ylabel('x2')\n",
    "ax.legend()\n",
    "fig.show()"
   ]
  },
  {
   "cell_type": "code",
   "execution_count": null,
   "id": "4efe321a",
   "metadata": {},
   "outputs": [],
   "source": [
    "# keep only the first dimension\n",
    "data_reconstructed = np.matmul(pca_results['scores'][:, 0].reshape((200, 1)), pca_results['loadings'][:, 0].reshape((1, 2)))\n",
    "fig = plt.figure()\n",
    "ax = fig.add_subplot(1, 1, 1)\n",
    "ax.set_title('reconstructed data using PC1')\n",
    "ax.scatter(data_reconstructed[:, 0], data_reconstructed[:, 1], color='blue')\n",
    "ax.set_xlabel('x1')\n",
    "ax.set_ylabel('x2')\n",
    "fig.show()"
   ]
  }
 ],
 "metadata": {
  "kernelspec": {
   "display_name": "Python 3",
   "language": "python",
   "name": "python3"
  },
  "language_info": {
   "codemirror_mode": {
    "name": "ipython",
    "version": 3
   },
   "file_extension": ".py",
   "mimetype": "text/x-python",
   "name": "python",
   "nbconvert_exporter": "python",
   "pygments_lexer": "ipython3",
   "version": "3.8.8"
  }
 },
 "nbformat": 4,
 "nbformat_minor": 5
}
