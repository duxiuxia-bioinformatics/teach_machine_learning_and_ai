{
 "cells": [
  {
   "cell_type": "markdown",
   "id": "b51311c0",
   "metadata": {},
   "source": [
    "# This tutoral is on basic statistics."
   ]
  },
  {
   "cell_type": "code",
   "execution_count": 2,
   "id": "52bec86c",
   "metadata": {},
   "outputs": [],
   "source": [
    "import numpy as np\n",
    "import matplotlib.pyplot as plt\n",
    "%matplotlib inline\n",
    "\n",
    "from scipy.stats import chi2, t, f"
   ]
  },
  {
   "cell_type": "markdown",
   "id": "5c99a086",
   "metadata": {},
   "source": [
    "## Basic statistical measures"
   ]
  },
  {
   "cell_type": "markdown",
   "id": "7d9efe58",
   "metadata": {},
   "source": [
    "### mean, variance, covariance, and correlation"
   ]
  },
  {
   "cell_type": "code",
   "execution_count": 2,
   "id": "16362e78",
   "metadata": {
    "scrolled": true
   },
   "outputs": [
    {
     "name": "stdout",
     "output_type": "stream",
     "text": [
      "3.5\n",
      "3.5\n"
     ]
    }
   ],
   "source": [
    "# mean\n",
    "xx = np.array([1, 2, 3, 4, 5, 6])\n",
    "mu_xx = sum(xx) / len(xx)\n",
    "print(mu_xx)\n",
    "print(np.mean(xx))"
   ]
  },
  {
   "cell_type": "code",
   "execution_count": 3,
   "id": "3a121e3f",
   "metadata": {},
   "outputs": [
    {
     "name": "stdout",
     "output_type": "stream",
     "text": [
      "[-2. -1.  0.  1.  2.]\n",
      "0.0\n"
     ]
    }
   ],
   "source": [
    "# mean centering\n",
    "xx = np.array([1,2,3,4,5])\n",
    "print(xx - xx.mean())\n",
    "\n",
    "# mean of mean-centered data is 0.0\n",
    "print(np.mean(xx - xx.mean()))"
   ]
  },
  {
   "cell_type": "code",
   "execution_count": 4,
   "id": "d0c0a8df",
   "metadata": {},
   "outputs": [
    {
     "name": "stdout",
     "output_type": "stream",
     "text": [
      "2.0\n",
      "2.0\n",
      "2.5\n",
      "2.5\n"
     ]
    }
   ],
   "source": [
    "# variance\n",
    "var_xx = sum((xx-xx.mean())*(xx-xx.mean()))/(len(xx))\n",
    "print(var_xx)\n",
    "print(np.var(xx, ddof=0))\n",
    "\n",
    "var_xx = sum((xx-xx.mean())*(xx-xx.mean()))/(len(xx)-1)\n",
    "print(var_xx)\n",
    "print(np.var(xx, ddof=1))"
   ]
  },
  {
   "cell_type": "code",
   "execution_count": 5,
   "id": "7ac5fcb1",
   "metadata": {},
   "outputs": [
    {
     "name": "stdout",
     "output_type": "stream",
     "text": [
      "10.0\n",
      "10.0\n",
      "\n",
      "my covariance\n",
      "5.0\n",
      "[[2. 4.]\n",
      " [4. 8.]]\n",
      "[[ 2.5  5. ]\n",
      " [ 5.  10. ]]\n"
     ]
    }
   ],
   "source": [
    "# covariance\n",
    "yy = np.array([2, 4, 6, 8, 10])\n",
    "\n",
    "var_yy = sum((yy-yy.mean())*(yy-yy.mean()))/(len(yy)-1)\n",
    "print(var_yy)\n",
    "print(np.var(yy, ddof=1))\n",
    "print()\n",
    "\n",
    "cov_xx_yy = sum((xx-mu_xx)*(yy-yy.mean()))/(len(xx)-1)\n",
    "print('my covariance')\n",
    "print(cov_xx_yy)\n",
    "\n",
    "print(np.cov(xx, yy, ddof=0))\n",
    "print(np.cov(xx, yy, ddof=1))"
   ]
  },
  {
   "cell_type": "code",
   "execution_count": 6,
   "id": "4e019c7d",
   "metadata": {},
   "outputs": [
    {
     "name": "stdout",
     "output_type": "stream",
     "text": [
      "[[1. 1.]\n",
      " [1. 1.]]\n"
     ]
    }
   ],
   "source": [
    "# correlation\n",
    "print(np.corrcoef(xx, yy))"
   ]
  },
  {
   "cell_type": "code",
   "execution_count": 7,
   "id": "769cc453",
   "metadata": {},
   "outputs": [
    {
     "name": "stdout",
     "output_type": "stream",
     "text": [
      "covariance\n",
      "[[ 2.5 -0.5]\n",
      " [-0.5  5.3]]\n",
      "\n",
      "correlation\n",
      "[[ 1.         -0.13736056]\n",
      " [-0.13736056  1.        ]]\n",
      "\n",
      "0.7433634259021153\n",
      "-0.13736056394868904\n"
     ]
    }
   ],
   "source": [
    "zz = np.array([1, 7, 4, 3, 2])\n",
    "print('covariance')\n",
    "print(np.cov(xx, zz))\n",
    "print()\n",
    "\n",
    "print('correlation')\n",
    "print(np.corrcoef(xx, zz))\n",
    "print()\n",
    "\n",
    "cosine = np.dot(xx, zz) / (np.linalg.norm(xx, ord=2) * np.linalg.norm(zz, ord=2))\n",
    "print(cosine)\n",
    "\n",
    "cosine = np.dot(xx-xx.mean(), zz-zz.mean()) / (np.linalg.norm(xx-xx.mean(), ord=2) * np.linalg.norm(zz-zz.mean(), ord=2))\n",
    "print(cosine)"
   ]
  },
  {
   "cell_type": "markdown",
   "id": "5b069812",
   "metadata": {},
   "source": [
    "### dot product"
   ]
  },
  {
   "cell_type": "code",
   "execution_count": 8,
   "id": "3c9147dd",
   "metadata": {},
   "outputs": [
    {
     "name": "stdout",
     "output_type": "stream",
     "text": [
      "110\n",
      "110\n",
      "7.416198487095663\n",
      "7.416198487095663\n",
      "1.0\n"
     ]
    }
   ],
   "source": [
    "dot_product = sum(xx*yy)\n",
    "print(dot_product)\n",
    "dot_product = np.dot(xx, yy)\n",
    "print(dot_product)\n",
    "\n",
    "magnitude_xx = np.sqrt(sum(xx*xx))\n",
    "print(magnitude_xx)\n",
    "magnitude_xx = np.linalg.norm(xx, ord=2)\n",
    "print(magnitude_xx)\n",
    "\n",
    "magnitude_yy = np.sqrt(sum(yy*yy))\n",
    "\n",
    "cosine_similarity = dot_product / (magnitude_xx * magnitude_yy)\n",
    "print(cosine_similarity)"
   ]
  },
  {
   "cell_type": "code",
   "execution_count": 9,
   "id": "b1bab80e",
   "metadata": {},
   "outputs": [
    {
     "name": "stdout",
     "output_type": "stream",
     "text": [
      "0.9999999999999998\n"
     ]
    }
   ],
   "source": [
    "# mean-center xx and yy, and re-calculate cosine value\n",
    "xx_mean_centered = xx-xx.mean()\n",
    "yy_mean_centered = yy-yy.mean()\n",
    "dot_product = sum(xx_mean_centered * yy_mean_centered)\n",
    "magnitude_xx_mean_centered = np.sqrt(sum(xx_mean_centered*xx_mean_centered))\n",
    "magnitude_yy_mean_centered = np.sqrt(sum(yy_mean_centered*yy_mean_centered))\n",
    "print(dot_product / (magnitude_xx_mean_centered*magnitude_yy_mean_centered))"
   ]
  },
  {
   "cell_type": "code",
   "execution_count": 10,
   "id": "9c903468",
   "metadata": {},
   "outputs": [
    {
     "name": "stdout",
     "output_type": "stream",
     "text": [
      "0.9838699100999074\n"
     ]
    }
   ],
   "source": [
    "xx = np.array([1, 2])\n",
    "yy = np.array([3, 4])\n",
    "cosine_similarity = sum(xx*yy)/(np.sqrt(sum(xx**2)) * np.sqrt(sum(yy**2)))\n",
    "print(cosine_similarity)"
   ]
  },
  {
   "cell_type": "code",
   "execution_count": 11,
   "id": "1f3f9cb4",
   "metadata": {},
   "outputs": [
    {
     "name": "stdout",
     "output_type": "stream",
     "text": [
      "-0.96\n"
     ]
    }
   ],
   "source": [
    "zz = xx - 5\n",
    "cosine_similarity = sum(zz*yy)/(np.sqrt(sum(zz**2)) * np.sqrt(sum(yy**2)))\n",
    "print(cosine_similarity)"
   ]
  },
  {
   "cell_type": "markdown",
   "id": "77825a5f",
   "metadata": {},
   "source": [
    "## Statistical distributions"
   ]
  },
  {
   "cell_type": "markdown",
   "id": "852b43c5",
   "metadata": {},
   "source": [
    "### Uniform distributions"
   ]
  },
  {
   "cell_type": "code",
   "execution_count": 35,
   "id": "946a0983",
   "metadata": {},
   "outputs": [
    {
     "name": "stdout",
     "output_type": "stream",
     "text": [
      "\n"
     ]
    },
    {
     "data": {
      "image/png": "[encoded data removed]",
      "text/plain": [
       "<Figure size 432x288 with 1 Axes>"
      ]
     },
     "metadata": {
      "needs_background": "light"
     },
     "output_type": "display_data"
    },
    {
     "data": {
      "image/png": "[encoded data removed]",
      "text/plain": [
       "<Figure size 432x288 with 1 Axes>"
      ]
     },
     "metadata": {
      "needs_background": "light"
     },
     "output_type": "display_data"
    }
   ],
   "source": [
    "# generate uniformly distributed random numbers and plot the histogram\n",
    "x = np.random.rand(1000)\n",
    "fig, ax = plt.subplots()\n",
    "ax.hist(x)\n",
    "ax.set_xlabel('x')\n",
    "ax.set_ylabel('counts')\n",
    "ax.set_title('histogram of data from a uniform distribution')\n",
    "print()\n",
    "\n",
    "yy = 2 * x - 1\n",
    "fig, ax = plt.subplots()\n",
    "ax.hist(yy)\n",
    "ax.set_xlabel('x')\n",
    "ax.set_ylabel('counts')\n",
    "ax.set_title('histogram of data from a uniform distribution')\n",
    "\n",
    "# another way to generate uniformly distributed random numbers\n",
    "x = np.random.uniform(1000)"
   ]
  },
  {
   "cell_type": "markdown",
   "id": "b55951e0",
   "metadata": {},
   "source": [
    "### Gaussian distributions"
   ]
  },
  {
   "cell_type": "code",
   "execution_count": 38,
   "id": "5cdeb649",
   "metadata": {},
   "outputs": [
    {
     "name": "stdout",
     "output_type": "stream",
     "text": [
      "<class 'numpy.ndarray'>\n",
      "length of counts = 100\n",
      "length of bin_edges = 101\n",
      "\n",
      "<class 'numpy.ndarray'>\n",
      "length of hist_result[0] =100\n",
      "[  1.   0.   1.   0.   1.   0.   0.   0.   1.   1.   1.   2.   6.   0.\n",
      "   5.   2.   4.   9.   7.  10.  15.  21.  26.  26.  37.  34.  23.  54.\n",
      "  51.  49.  82.  91. 115.  95. 125. 149. 156. 170. 192. 190. 214. 220.\n",
      " 224. 268. 272. 299. 312. 314. 320. 319. 299. 306. 324. 308. 317. 324.\n",
      " 253. 285. 285. 274. 267. 229. 206. 197. 178. 171. 143. 161. 135. 119.\n",
      "  99.  91.  84.  57.  63.  62.  34.  44.  36.  15.  28.  23.  16.   8.\n",
      "   9.   8.   5.   4.   5.   2.   2.   2.   0.   2.   0.   1.   2.   2.\n",
      "   0.   1.]\n",
      "\n",
      "<class 'numpy.ndarray'>\n",
      "length of hist_result[1] = 100\n",
      "[-4.16280675 -4.08234098 -4.00187521 -3.92140945 -3.84094368 -3.76047791\n",
      " -3.68001214 -3.59954638 -3.51908061 -3.43861484 -3.35814907 -3.2776833\n",
      " -3.19721754 -3.11675177 -3.036286   -2.95582023 -2.87535446 -2.7948887\n",
      " -2.71442293 -2.63395716 -2.55349139 -2.47302562 -2.39255986 -2.31209409\n",
      " -2.23162832 -2.15116255 -2.07069678 -1.99023102 -1.90976525 -1.82929948\n",
      " -1.74883371 -1.66836794 -1.58790218 -1.50743641 -1.42697064 -1.34650487\n",
      " -1.2660391  -1.18557334 -1.10510757 -1.0246418  -0.94417603 -0.86371026\n",
      " -0.7832445  -0.70277873 -0.62231296 -0.54184719 -0.46138142 -0.38091566\n",
      " -0.30044989 -0.21998412 -0.13951835 -0.05905258  0.02141318  0.10187895\n",
      "  0.18234472  0.26281049  0.34327625  0.42374202  0.50420779  0.58467356\n",
      "  0.66513933  0.74560509  0.82607086  0.90653663  0.9870024   1.06746817\n",
      "  1.14793393  1.2283997   1.30886547  1.38933124  1.46979701  1.55026277\n",
      "  1.63072854  1.71119431  1.79166008  1.87212585  1.95259161  2.03305738\n",
      "  2.11352315  2.19398892  2.27445469  2.35492045  2.43538622  2.51585199\n",
      "  2.59631776  2.67678353  2.75724929  2.83771506  2.91818083  2.9986466\n",
      "  3.07911237  3.15957813  3.2400439   3.32050967  3.40097544  3.48144121\n",
      "  3.56190697  3.64237274  3.72283851  3.80330428  3.88377005]\n"
     ]
    },
    {
     "data": {
      "image/png": "[encoded data removed]",
      "text/plain": [
       "<Figure size 432x288 with 1 Axes>"
      ]
     },
     "metadata": {
      "needs_background": "light"
     },
     "output_type": "display_data"
    },
    {
     "data": {
      "image/png": "[encoded data removed]",
      "text/plain": [
       "<Figure size 432x288 with 1 Axes>"
      ]
     },
     "metadata": {
      "needs_background": "light"
     },
     "output_type": "display_data"
    }
   ],
   "source": [
    "# generate normally distributed random numbers and plot the histogram\n",
    "x = np.random.normal(loc=0.0, scale=1.0, size=10000)\n",
    "counts, bin_edges = np.histogram(x, bins=100)\n",
    "print(type(counts))\n",
    "print('length of counts = ' + str(len(counts)))\n",
    "print('length of bin_edges = ' + str(len(bins)))\n",
    "print()\n",
    "\n",
    "# plot the histogram based on the results from np.histogram\n",
    "fig, ax = plt.subplots()\n",
    "ax.plot(bin_edges[1:], counts)\n",
    "ax.set_xlabel('bin_edges')\n",
    "ax.set_ylabel('counts')\n",
    "ax.set_title('histogram of normally distributed random numbers')\n",
    "\n",
    "# plot the histogram directly using matplotlib.pyplot\n",
    "fig, ax = plt.subplots()\n",
    "hist_result = plt.hist(x, bins=100)\n",
    "ax.set_xlabel('x')\n",
    "ax.set_ylabel('counts')\n",
    "ax.set_title('generate and plot histogram of normally distributed random numbers using matplotlib')\n",
    "\n",
    "# counts\n",
    "print(type(hist_result[0]))\n",
    "print('length of hist_result[0] =' + str(len(hist_result[0])))\n",
    "print(hist_result[0])\n",
    "print()\n",
    "\n",
    "# bins\n",
    "print(type(hist_result[1]))\n",
    "print('length of hist_result[1] = ' + str(len(hist_result[0])))\n",
    "print(hist_result[1])\n"
   ]
  },
  {
   "cell_type": "markdown",
   "id": "0ea7a6e9",
   "metadata": {},
   "source": [
    "### chi-squared distribution"
   ]
  },
  {
   "cell_type": "code",
   "execution_count": null,
   "id": "36f2fb8d",
   "metadata": {},
   "outputs": [],
   "source": [
    "df = 5\n",
    "\n",
    "x = np.linspace(chi2.ppf(0.01, df), chi2.ppf(0.99, df), 100)\n",
    "\n",
    "fig, ax = plt.subplots(1, 1)\n",
    "ax.plot(x, chi2.pdf(x, df), 'r-', lw=5, alpha=0.6, label='chi2 pdf')\n",
    "rv = chi2(df)\n",
    "ax.plot(x, rv.pdf(x), 'k-', lw=2, label='frozen pdf')\n",
    "r = chi2.rvs(df, size=1000)\n",
    "ax.hist(r, density=True, bins='auto', histtype='stepfilled', alpha=0.2)\n",
    "ax.set_xlim([x[0], x[-1]])\n",
    "ax.legend(loc='best', frameon=False)"
   ]
  },
  {
   "cell_type": "markdown",
   "id": "cf8c6c02",
   "metadata": {},
   "source": [
    "### Student's t distribution"
   ]
  },
  {
   "cell_type": "code",
   "execution_count": null,
   "id": "15657f01",
   "metadata": {},
   "outputs": [],
   "source": [
    "df = 100\n",
    "\n",
    "fig, ax = plt.subplots(1, 1)\n",
    "mean, var, skew, kurt = t.stats(df, moments='mvsk')\n",
    "x = np.linspace(t.ppf(0.01, df), t.ppf(0.99, df), 100)\n",
    "ax.plot(x, t.pdf(x, df), 'r-', lw=5, alpha=0.6, label='t pdf')\n",
    "ax.legend()\n",
    "\n",
    "print(t.cdf(2, df))\n",
    "print(1.0 - t.cdf(2, df))"
   ]
  },
  {
   "cell_type": "markdown",
   "id": "fa06a34c",
   "metadata": {},
   "source": [
    "### F distribution"
   ]
  },
  {
   "cell_type": "code",
   "execution_count": 21,
   "id": "18a84711",
   "metadata": {},
   "outputs": [
    {
     "name": "stdout",
     "output_type": "stream",
     "text": [
      "lower and upper x boundary:\n",
      "0.27535706796358933\n",
      "4.321277844144668\n",
      "\n",
      "[0.27535707 1.01440182 4.32127784]\n",
      "\n",
      "True\n",
      "\n",
      "p_vlaue =0.0634\n"
     ]
    },
    {
     "data": {
      "image/png": "[encoded data removed]",
      "text/plain": [
       "<Figure size 432x288 with 1 Axes>"
      ]
     },
     "metadata": {
      "needs_background": "light"
     },
     "output_type": "display_data"
    }
   ],
   "source": [
    "# the degree of freedom for the numerator and denominator defines an F distribution\n",
    "dfn, dfd = 29, 18 # 1, 10 # 29, 18\n",
    "\n",
    "lower_cdf = 0.001\n",
    "upper_cdf = 0.999\n",
    "lower_x_boundary = f.ppf(lower_cdf, dfn, dfd)\n",
    "print('lower and upper x boundary:')\n",
    "print(lower_x_boundary)\n",
    "upper_x_boundary = f.ppf(upper_cdf, dfn, dfd)\n",
    "print(upper_x_boundary)\n",
    "print()\n",
    "\n",
    "num_of_x_point = 10000\n",
    "\n",
    "x = np.linspace(lower_x_boundary, upper_x_boundary, num_of_x_point)\n",
    "\n",
    "# plot the density of an F distribution\n",
    "pdf = f.pdf(x, dfn, dfd)\n",
    "fig, ax = plt.subplots()\n",
    "ax.plot(x, pdf, 'r-', lw=5, alpha=0.6, label='F pdf')\n",
    "\n",
    "# Check accuracy of cdf and ppf\n",
    "cdf_list = [0.001, 0.5, 0.999]\n",
    "x_vals_for_specified_cdf = f.ppf(cdf_list, dfn, dfd)\n",
    "print(x_vals_for_specified_cdf)\n",
    "print()\n",
    "\n",
    "tf = np.allclose([0.001, 0.5, 0.999], f.cdf(x_vals_for_specified_cdf, dfn, dfd))\n",
    "print(tf)\n",
    "print()\n",
    "\n",
    "# generate random numbers\n",
    "rvs = f.rvs(dfn, dfd, size=num_of_x_point)\n",
    "\n",
    "# compare the histogram with the distribution\n",
    "ax.hist(rvs, density=True, bins='auto', histtype='stepfilled', alpha=0.2, label='histogram', color='blue')\n",
    "\n",
    "ax.legend(loc='best', frameon=False)\n",
    "\n",
    "# get the p-value for a particular F-statistic value\n",
    "f_statistic = 2.0\n",
    "p_value = 1.0 - f.cdf(f_statistic, dfn, dfd)\n",
    "print('p_vlaue =' + str(round(p_value,4)))"
   ]
  },
  {
   "cell_type": "code",
   "execution_count": null,
   "id": "5934e784",
   "metadata": {},
   "outputs": [],
   "source": [
    "# mean squared error\n",
    "from sklearn.metrics import mean_squared_error\n",
    "y_true = [[0.5, 1],[-1, 1],[7, -6]]\n",
    "y_pred = [[0, 2],[-1, 2],[8, -5]]\n",
    "mean_squared_error(y_true, y_pred)\n",
    "mean_squared_error(y_true, y_pred, multioutput='raw_values')\n",
    "y_true = [0.5, -1, 7]\n",
    "y_pred = [0, -1, 8]\n",
    "mean_squared_error(y_true, y_pred)\n",
    "y_true = [1, 1, -6]\n",
    "y_pred = [2, 2, -5]\n",
    "mean_squared_error(y_true, y_pred)\n"
   ]
  },
  {
   "cell_type": "code",
   "execution_count": null,
   "id": "2656e4ea",
   "metadata": {},
   "outputs": [],
   "source": [
    "print('hello')"
   ]
  },
  {
   "cell_type": "code",
   "execution_count": null,
   "id": "111cd94f",
   "metadata": {},
   "outputs": [],
   "source": []
  },
  {
   "cell_type": "code",
   "execution_count": null,
   "id": "f2fbc0a7",
   "metadata": {},
   "outputs": [],
   "source": []
  }
 ],
 "metadata": {
  "kernelspec": {
   "display_name": "Python 3",
   "language": "python",
   "name": "python3"
  },
  "language_info": {
   "codemirror_mode": {
    "name": "ipython",
    "version": 3
   },
   "file_extension": ".py",
   "mimetype": "text/x-python",
   "name": "python",
   "nbconvert_exporter": "python",
   "pygments_lexer": "ipython3",
   "version": "3.8.8"
  }
 },
 "nbformat": 4,
 "nbformat_minor": 5
}
