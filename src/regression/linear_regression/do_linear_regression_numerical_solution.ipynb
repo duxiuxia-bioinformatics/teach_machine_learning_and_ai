{
 "cells": [
  {
   "cell_type": "code",
   "execution_count": 1,
   "id": "63376a0bccbb9034",
   "metadata": {
    "ExecuteTime": {
     "end_time": "2025-09-24T16:32:55.048137Z",
     "start_time": "2025-09-24T16:32:53.734235Z"
    }
   },
   "outputs": [],
   "source": [
    "import sys\n",
    "import os\n",
    "\n",
    "import matplotlib.pyplot as plt\n",
    "from matplotlib import cm\n",
    "\n",
    "import numpy as np\n",
    "import pandas as pd\n",
    "\n",
    "from sklearn.preprocessing import StandardScaler\n",
    "import statsmodels.api as sm"
   ]
  },
  {
   "cell_type": "code",
   "execution_count": 2,
   "id": "cae07e571ebec157",
   "metadata": {
    "ExecuteTime": {
     "end_time": "2025-09-24T16:39:41.513179Z",
     "start_time": "2025-09-24T16:39:41.510486Z"
    }
   },
   "outputs": [],
   "source": [
    "# Get the absolute path of the current file\n",
    "try:\n",
    "    # Works in .py scripts\n",
    "    current_dir = os.path.dirname(os.path.abspath(__file__))\n",
    "except NameError:\n",
    "    # Fallback for Jupyter\n",
    "    current_dir = os.getcwd()\n",
    "\n",
    "# Go up N levels (here N=2, but you can adjust)\n",
    "project_root = os.path.abspath(os.path.join(current_dir, \"..\", \"..\"))\n",
    "\n",
    "# Add the project root to sys.path if not already there\n",
    "if project_root not in sys.path:\n",
    "    sys.path.insert(0, project_root)"
   ]
  },
  {
   "cell_type": "code",
   "execution_count": null,
   "id": "f19998afd3adabf5",
   "metadata": {},
   "outputs": [],
   "source": [
    "# import project_imports  # ensures project root is in sys.path\n",
    "\n",
    "# from mymodule import MyClass\n"
   ]
  },
  {
   "cell_type": "code",
   "execution_count": 3,
   "id": "66b92b7c526d428",
   "metadata": {
    "ExecuteTime": {
     "end_time": "2025-09-24T16:41:16.208130Z",
     "start_time": "2025-09-24T16:41:16.204199Z"
    }
   },
   "outputs": [],
   "source": [
    "from ML_toolbox import d_mlr_gradient_descent_class\n",
    "from ML_toolbox import d_lm_analytical_solution_class"
   ]
  },
  {
   "cell_type": "code",
   "execution_count": 4,
   "id": "b80dd41c",
   "metadata": {
    "ExecuteTime": {
     "end_time": "2025-09-24T16:39:46.433814Z",
     "start_time": "2025-09-24T16:39:46.430948Z"
    }
   },
   "outputs": [],
   "source": [
    "# specify parameters for gradient descent\n",
    "delta_J_threshold = 0.000001\n",
    "learning_rate = 0.001"
   ]
  },
  {
   "cell_type": "code",
   "execution_count": 5,
   "id": "cb8718b4",
   "metadata": {
    "ExecuteTime": {
     "end_time": "2025-09-24T16:40:04.724148Z",
     "start_time": "2025-09-24T16:40:04.716583Z"
    }
   },
   "outputs": [
    {
     "data": {
      "text/html": [
       "<div>\n",
       "<style scoped>\n",
       "    .dataframe tbody tr th:only-of-type {\n",
       "        vertical-align: middle;\n",
       "    }\n",
       "\n",
       "    .dataframe tbody tr th {\n",
       "        vertical-align: top;\n",
       "    }\n",
       "\n",
       "    .dataframe thead th {\n",
       "        text-align: right;\n",
       "    }\n",
       "</style>\n",
       "<table border=\"1\" class=\"dataframe\">\n",
       "  <thead>\n",
       "    <tr style=\"text-align: right;\">\n",
       "      <th></th>\n",
       "      <th>size</th>\n",
       "      <th>number of bedrooms</th>\n",
       "      <th>price</th>\n",
       "    </tr>\n",
       "  </thead>\n",
       "  <tbody>\n",
       "    <tr>\n",
       "      <th>0</th>\n",
       "      <td>2104</td>\n",
       "      <td>3</td>\n",
       "      <td>399900</td>\n",
       "    </tr>\n",
       "    <tr>\n",
       "      <th>1</th>\n",
       "      <td>1600</td>\n",
       "      <td>3</td>\n",
       "      <td>329900</td>\n",
       "    </tr>\n",
       "    <tr>\n",
       "      <th>2</th>\n",
       "      <td>2400</td>\n",
       "      <td>3</td>\n",
       "      <td>369000</td>\n",
       "    </tr>\n",
       "    <tr>\n",
       "      <th>3</th>\n",
       "      <td>1416</td>\n",
       "      <td>2</td>\n",
       "      <td>232000</td>\n",
       "    </tr>\n",
       "    <tr>\n",
       "      <th>4</th>\n",
       "      <td>3000</td>\n",
       "      <td>4</td>\n",
       "      <td>539900</td>\n",
       "    </tr>\n",
       "  </tbody>\n",
       "</table>\n",
       "</div>"
      ],
      "text/plain": [
       "   size  number of bedrooms   price\n",
       "0  2104                   3  399900\n",
       "1  1600                   3  329900\n",
       "2  2400                   3  369000\n",
       "3  1416                   2  232000\n",
       "4  3000                   4  539900"
      ]
     },
     "execution_count": 5,
     "metadata": {},
     "output_type": "execute_result"
    }
   ],
   "source": [
    "in_file_name = \"../../../data/home_price.csv\"\n",
    "data_in_df = pd.read_csv(in_file_name)\n",
    "data_in_df.head()"
   ]
  },
  {
   "cell_type": "code",
   "execution_count": 6,
   "id": "8a2cfd9a71df9225",
   "metadata": {
    "ExecuteTime": {
     "end_time": "2025-09-24T16:41:40.966960Z",
     "start_time": "2025-09-24T16:41:40.964557Z"
    }
   },
   "outputs": [],
   "source": [
    "# x_name = ['size', 'number of bedrooms']\n",
    "x_name = ['size']\n",
    "y_name = ['price']\n",
    "\n",
    "variable_to_plot = ['size']"
   ]
  },
  {
   "cell_type": "code",
   "execution_count": 15,
   "id": "f46992ea",
   "metadata": {
    "ExecuteTime": {
     "end_time": "2025-09-24T16:41:41.976343Z",
     "start_time": "2025-09-24T16:41:41.926185Z"
    }
   },
   "outputs": [
    {
     "data": {
      "text/plain": [
       "Text(0, 0.5, 'price')"
      ]
     },
     "execution_count": 15,
     "metadata": {},
     "output_type": "execute_result"
    },
    {
     "data": {
      "image/png": "[encoded data removed]",
      "text/plain": [
       "<Figure size 500x300 with 1 Axes>"
      ]
     },
     "metadata": {},
     "output_type": "display_data"
    }
   ],
   "source": [
    "fig, ax = plt.subplots(figsize=(5,3))\n",
    "ax.scatter(data_in_df[variable_to_plot], data_in_df[y_name], marker='.', color='blue')\n",
    "ax.set_xlabel(variable_to_plot[0])\n",
    "ax.set_ylabel(y_name[0])"
   ]
  },
  {
   "cell_type": "code",
   "execution_count": 8,
   "id": "8304cb0359e99b7f",
   "metadata": {
    "ExecuteTime": {
     "end_time": "2025-09-24T16:41:56.721985Z",
     "start_time": "2025-09-24T16:41:56.715716Z"
    }
   },
   "outputs": [],
   "source": [
    "# normalize variables to make them have similar scale\n",
    "standard_scaler_obj = StandardScaler()\n",
    "standard_scaler_obj.fit(data_in_df[x_name + y_name])\n",
    "\n",
    "mean_needed_df = pd.Series(standard_scaler_obj.mean_, index=x_name + y_name)\n",
    "scale_needed_df = pd.Series(standard_scaler_obj.scale_, index=x_name + y_name)\n",
    "\n",
    "data_normalized_df = pd.DataFrame(standard_scaler_obj.transform(data_in_df[x_name+y_name]), \\\n",
    "                                  index=data_in_df.index, \\\n",
    "                                  columns=x_name + y_name)"
   ]
  },
  {
   "cell_type": "code",
   "execution_count": 9,
   "id": "c58d61870d2f94b",
   "metadata": {
    "ExecuteTime": {
     "end_time": "2025-09-24T16:42:15.415048Z",
     "start_time": "2025-09-24T16:42:15.411673Z"
    }
   },
   "outputs": [],
   "source": [
    "# get information on x (single variable) and y\n",
    "X = data_normalized_df[x_name]\n",
    "y = data_normalized_df[y_name]\n",
    "\n",
    "# augment X0\n",
    "X = sm.add_constant(X)\n",
    "\n",
    "number_of_variables = X.shape[1]\n",
    "\n",
    " # including X0\n",
    "initial_theta = np.zeros((number_of_variables, 1))"
   ]
  },
  {
   "cell_type": "code",
   "execution_count": 10,
   "id": "acc450e0a49e5f0",
   "metadata": {
    "ExecuteTime": {
     "end_time": "2025-09-24T16:42:17.441797Z",
     "start_time": "2025-09-24T16:42:17.435210Z"
    }
   },
   "outputs": [
    {
     "data": {
      "text/html": [
       "<div>\n",
       "<style scoped>\n",
       "    .dataframe tbody tr th:only-of-type {\n",
       "        vertical-align: middle;\n",
       "    }\n",
       "\n",
       "    .dataframe tbody tr th {\n",
       "        vertical-align: top;\n",
       "    }\n",
       "\n",
       "    .dataframe thead th {\n",
       "        text-align: right;\n",
       "    }\n",
       "</style>\n",
       "<table border=\"1\" class=\"dataframe\">\n",
       "  <thead>\n",
       "    <tr style=\"text-align: right;\">\n",
       "      <th></th>\n",
       "      <th>const</th>\n",
       "      <th>size</th>\n",
       "    </tr>\n",
       "  </thead>\n",
       "  <tbody>\n",
       "    <tr>\n",
       "      <th>0</th>\n",
       "      <td>1.0</td>\n",
       "      <td>0.131415</td>\n",
       "    </tr>\n",
       "    <tr>\n",
       "      <th>1</th>\n",
       "      <td>1.0</td>\n",
       "      <td>-0.509641</td>\n",
       "    </tr>\n",
       "    <tr>\n",
       "      <th>2</th>\n",
       "      <td>1.0</td>\n",
       "      <td>0.507909</td>\n",
       "    </tr>\n",
       "    <tr>\n",
       "      <th>3</th>\n",
       "      <td>1.0</td>\n",
       "      <td>-0.743677</td>\n",
       "    </tr>\n",
       "    <tr>\n",
       "      <th>4</th>\n",
       "      <td>1.0</td>\n",
       "      <td>1.271071</td>\n",
       "    </tr>\n",
       "    <tr>\n",
       "      <th>5</th>\n",
       "      <td>1.0</td>\n",
       "      <td>-0.019945</td>\n",
       "    </tr>\n",
       "    <tr>\n",
       "      <th>6</th>\n",
       "      <td>1.0</td>\n",
       "      <td>-0.593589</td>\n",
       "    </tr>\n",
       "    <tr>\n",
       "      <th>7</th>\n",
       "      <td>1.0</td>\n",
       "      <td>-0.729686</td>\n",
       "    </tr>\n",
       "    <tr>\n",
       "      <th>8</th>\n",
       "      <td>1.0</td>\n",
       "      <td>-0.789467</td>\n",
       "    </tr>\n",
       "    <tr>\n",
       "      <th>9</th>\n",
       "      <td>1.0</td>\n",
       "      <td>-0.644466</td>\n",
       "    </tr>\n",
       "    <tr>\n",
       "      <th>10</th>\n",
       "      <td>1.0</td>\n",
       "      <td>-0.077182</td>\n",
       "    </tr>\n",
       "    <tr>\n",
       "      <th>11</th>\n",
       "      <td>1.0</td>\n",
       "      <td>-0.000866</td>\n",
       "    </tr>\n",
       "    <tr>\n",
       "      <th>12</th>\n",
       "      <td>1.0</td>\n",
       "      <td>-0.140779</td>\n",
       "    </tr>\n",
       "    <tr>\n",
       "      <th>13</th>\n",
       "      <td>1.0</td>\n",
       "      <td>3.150993</td>\n",
       "    </tr>\n",
       "    <tr>\n",
       "      <th>14</th>\n",
       "      <td>1.0</td>\n",
       "      <td>-0.931924</td>\n",
       "    </tr>\n",
       "    <tr>\n",
       "      <th>15</th>\n",
       "      <td>1.0</td>\n",
       "      <td>0.380715</td>\n",
       "    </tr>\n",
       "    <tr>\n",
       "      <th>16</th>\n",
       "      <td>1.0</td>\n",
       "      <td>-0.865783</td>\n",
       "    </tr>\n",
       "    <tr>\n",
       "      <th>17</th>\n",
       "      <td>1.0</td>\n",
       "      <td>-0.972626</td>\n",
       "    </tr>\n",
       "    <tr>\n",
       "      <th>18</th>\n",
       "      <td>1.0</td>\n",
       "      <td>0.773743</td>\n",
       "    </tr>\n",
       "    <tr>\n",
       "      <th>19</th>\n",
       "      <td>1.0</td>\n",
       "      <td>1.310501</td>\n",
       "    </tr>\n",
       "    <tr>\n",
       "      <th>20</th>\n",
       "      <td>1.0</td>\n",
       "      <td>-0.297227</td>\n",
       "    </tr>\n",
       "    <tr>\n",
       "      <th>21</th>\n",
       "      <td>1.0</td>\n",
       "      <td>-0.143323</td>\n",
       "    </tr>\n",
       "    <tr>\n",
       "      <th>22</th>\n",
       "      <td>1.0</td>\n",
       "      <td>-0.504553</td>\n",
       "    </tr>\n",
       "    <tr>\n",
       "      <th>23</th>\n",
       "      <td>1.0</td>\n",
       "      <td>-0.049200</td>\n",
       "    </tr>\n",
       "    <tr>\n",
       "      <th>24</th>\n",
       "      <td>1.0</td>\n",
       "      <td>2.403094</td>\n",
       "    </tr>\n",
       "    <tr>\n",
       "      <th>25</th>\n",
       "      <td>1.0</td>\n",
       "      <td>-1.145609</td>\n",
       "    </tr>\n",
       "    <tr>\n",
       "      <th>26</th>\n",
       "      <td>1.0</td>\n",
       "      <td>-0.690256</td>\n",
       "    </tr>\n",
       "    <tr>\n",
       "      <th>27</th>\n",
       "      <td>1.0</td>\n",
       "      <td>0.668173</td>\n",
       "    </tr>\n",
       "    <tr>\n",
       "      <th>28</th>\n",
       "      <td>1.0</td>\n",
       "      <td>0.253521</td>\n",
       "    </tr>\n",
       "    <tr>\n",
       "      <th>29</th>\n",
       "      <td>1.0</td>\n",
       "      <td>0.809358</td>\n",
       "    </tr>\n",
       "    <tr>\n",
       "      <th>30</th>\n",
       "      <td>1.0</td>\n",
       "      <td>-0.205648</td>\n",
       "    </tr>\n",
       "    <tr>\n",
       "      <th>31</th>\n",
       "      <td>1.0</td>\n",
       "      <td>-1.272803</td>\n",
       "    </tr>\n",
       "    <tr>\n",
       "      <th>32</th>\n",
       "      <td>1.0</td>\n",
       "      <td>0.050011</td>\n",
       "    </tr>\n",
       "    <tr>\n",
       "      <th>33</th>\n",
       "      <td>1.0</td>\n",
       "      <td>1.445326</td>\n",
       "    </tr>\n",
       "    <tr>\n",
       "      <th>34</th>\n",
       "      <td>1.0</td>\n",
       "      <td>-0.241262</td>\n",
       "    </tr>\n",
       "    <tr>\n",
       "      <th>35</th>\n",
       "      <td>1.0</td>\n",
       "      <td>-0.716966</td>\n",
       "    </tr>\n",
       "    <tr>\n",
       "      <th>36</th>\n",
       "      <td>1.0</td>\n",
       "      <td>-0.968810</td>\n",
       "    </tr>\n",
       "    <tr>\n",
       "      <th>37</th>\n",
       "      <td>1.0</td>\n",
       "      <td>0.167030</td>\n",
       "    </tr>\n",
       "    <tr>\n",
       "      <th>38</th>\n",
       "      <td>1.0</td>\n",
       "      <td>2.816474</td>\n",
       "    </tr>\n",
       "    <tr>\n",
       "      <th>39</th>\n",
       "      <td>1.0</td>\n",
       "      <td>0.205188</td>\n",
       "    </tr>\n",
       "    <tr>\n",
       "      <th>40</th>\n",
       "      <td>1.0</td>\n",
       "      <td>-0.428237</td>\n",
       "    </tr>\n",
       "    <tr>\n",
       "      <th>41</th>\n",
       "      <td>1.0</td>\n",
       "      <td>0.301855</td>\n",
       "    </tr>\n",
       "    <tr>\n",
       "      <th>42</th>\n",
       "      <td>1.0</td>\n",
       "      <td>0.720322</td>\n",
       "    </tr>\n",
       "    <tr>\n",
       "      <th>43</th>\n",
       "      <td>1.0</td>\n",
       "      <td>-1.018415</td>\n",
       "    </tr>\n",
       "    <tr>\n",
       "      <th>44</th>\n",
       "      <td>1.0</td>\n",
       "      <td>-1.461049</td>\n",
       "    </tr>\n",
       "    <tr>\n",
       "      <th>45</th>\n",
       "      <td>1.0</td>\n",
       "      <td>-0.189113</td>\n",
       "    </tr>\n",
       "    <tr>\n",
       "      <th>46</th>\n",
       "      <td>1.0</td>\n",
       "      <td>-1.014600</td>\n",
       "    </tr>\n",
       "  </tbody>\n",
       "</table>\n",
       "</div>"
      ],
      "text/plain": [
       "    const      size\n",
       "0     1.0  0.131415\n",
       "1     1.0 -0.509641\n",
       "2     1.0  0.507909\n",
       "3     1.0 -0.743677\n",
       "4     1.0  1.271071\n",
       "5     1.0 -0.019945\n",
       "6     1.0 -0.593589\n",
       "7     1.0 -0.729686\n",
       "8     1.0 -0.789467\n",
       "9     1.0 -0.644466\n",
       "10    1.0 -0.077182\n",
       "11    1.0 -0.000866\n",
       "12    1.0 -0.140779\n",
       "13    1.0  3.150993\n",
       "14    1.0 -0.931924\n",
       "15    1.0  0.380715\n",
       "16    1.0 -0.865783\n",
       "17    1.0 -0.972626\n",
       "18    1.0  0.773743\n",
       "19    1.0  1.310501\n",
       "20    1.0 -0.297227\n",
       "21    1.0 -0.143323\n",
       "22    1.0 -0.504553\n",
       "23    1.0 -0.049200\n",
       "24    1.0  2.403094\n",
       "25    1.0 -1.145609\n",
       "26    1.0 -0.690256\n",
       "27    1.0  0.668173\n",
       "28    1.0  0.253521\n",
       "29    1.0  0.809358\n",
       "30    1.0 -0.205648\n",
       "31    1.0 -1.272803\n",
       "32    1.0  0.050011\n",
       "33    1.0  1.445326\n",
       "34    1.0 -0.241262\n",
       "35    1.0 -0.716966\n",
       "36    1.0 -0.968810\n",
       "37    1.0  0.167030\n",
       "38    1.0  2.816474\n",
       "39    1.0  0.205188\n",
       "40    1.0 -0.428237\n",
       "41    1.0  0.301855\n",
       "42    1.0  0.720322\n",
       "43    1.0 -1.018415\n",
       "44    1.0 -1.461049\n",
       "45    1.0 -0.189113\n",
       "46    1.0 -1.014600"
      ]
     },
     "execution_count": 10,
     "metadata": {},
     "output_type": "execute_result"
    }
   ],
   "source": [
    "delta_J_threshold\n",
    "initial_theta\n",
    "learning_rate\n",
    "X"
   ]
  },
  {
   "cell_type": "code",
   "execution_count": 11,
   "id": "22aa5756405c48c9",
   "metadata": {
    "ExecuteTime": {
     "end_time": "2025-09-24T17:41:56.954570Z",
     "start_time": "2025-09-24T17:41:02.945632Z"
    }
   },
   "outputs": [],
   "source": [
    "# gradient descent\n",
    "obj_MLR = d_mlr_gradient_descent_class.MLR(delta_J_threshold=delta_J_threshold,\n",
    "                                               initial_theta=initial_theta,\n",
    "                                               learning_rate=learning_rate)\n",
    "\n",
    "obj_MLR.fit(X=X, y=y)\n",
    "optimal_theta = obj_MLR.optimal_theta\n",
    "J = obj_MLR.J"
   ]
  },
  {
   "cell_type": "code",
   "execution_count": null,
   "id": "8e423859",
   "metadata": {},
   "outputs": [
    {
     "data": {
      "text/plain": [
       "Text(0, 0.5, 'J')"
      ]
     },
     "execution_count": 14,
     "metadata": {},
     "output_type": "execute_result"
    },
    {
     "data": {
      "image/png": "[encoded data removed]",
      "text/plain": [
       "<Figure size 500x300 with 1 Axes>"
      ]
     },
     "metadata": {},
     "output_type": "display_data"
    },
    {
     "data": {
      "image/png": "[encoded data removed]",
      "text/plain": [
       "<Figure size 500x300 with 1 Axes>"
      ]
     },
     "metadata": {},
     "output_type": "display_data"
    }
   ],
   "source": [
    "y_hat = X @ optimal_theta\n",
    "\n",
    "# restore y_hat to the original data space\n",
    "y_hat_restored = y_hat * scale_needed_df[y_name][y_name].values + mean_needed_df[y_name].values\n",
    "\n",
    "\n",
    "fig, ax = plt.subplots(figsize=(5,3))\n",
    "ax.scatter(data_in_df[variable_to_plot], data_in_df[y_name], marker='.', color='blue')\n",
    "ax.plot(data_in_df[variable_to_plot], y_hat_restored, color='red')\n",
    "ax.set_xlabel(variable_to_plot[0])\n",
    "ax.set_ylabel(y_name[0])\n",
    "\n",
    "\n",
    "fig, ax = plt.subplots(figsize=(5,3))\n",
    "ax.scatter(range(len(J)), J, marker='.', color='blue')\n",
    "ax.set_xlabel('iterations')\n",
    "ax.set_ylabel('J')"
   ]
  },
  {
   "cell_type": "code",
   "execution_count": null,
   "id": "66514d99",
   "metadata": {},
   "outputs": [],
   "source": []
  }
 ],
 "metadata": {
  "kernelspec": {
   "display_name": "base",
   "language": "python",
   "name": "python3"
  },
  "language_info": {
   "codemirror_mode": {
    "name": "ipython",
    "version": 3
   },
   "file_extension": ".py",
   "mimetype": "text/x-python",
   "name": "python",
   "nbconvert_exporter": "python",
   "pygments_lexer": "ipython3",
   "version": "3.12.4"
  }
 },
 "nbformat": 4,
 "nbformat_minor": 5
}
