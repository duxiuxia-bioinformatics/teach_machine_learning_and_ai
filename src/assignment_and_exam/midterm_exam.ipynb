{
 "cells": [
  {
   "cell_type": "code",
   "id": "initial_id",
   "metadata": {
    "collapsed": true,
    "ExecuteTime": {
     "end_time": "2025-10-11T15:25:48.200619Z",
     "start_time": "2025-10-11T15:25:48.198733Z"
    }
   },
   "source": [
    "import numpy as np\n",
    "import pandas as pd\n",
    "from sklearn.preprocessing import StandardScaler\n",
    "import numpy.linalg as la"
   ],
   "outputs": [],
   "execution_count": 31
  },
  {
   "metadata": {
    "ExecuteTime": {
     "end_time": "2025-10-11T15:19:02.029119Z",
     "start_time": "2025-10-11T15:19:02.017907Z"
    }
   },
   "cell_type": "code",
   "source": [
    "data_dict = {'Person Name': ['Mary', 'Alex', 'John'], \n",
    "             'Height': [50, 55, 70], \n",
    "             'Weight': [70, 65, 160],}\n",
    "X_df = pd.DataFrame(data_dict)\n",
    "X_df.set_index('Person Name', inplace=True)\n",
    "X_df"
   ],
   "id": "de5bda70af0793c7",
   "outputs": [
    {
     "data": {
      "text/plain": [
       "             Height  Weight\n",
       "Person Name                \n",
       "Mary             50      70\n",
       "Alex             55      65\n",
       "John             70     160"
      ],
      "text/html": [
       "<div>\n",
       "<style scoped>\n",
       "    .dataframe tbody tr th:only-of-type {\n",
       "        vertical-align: middle;\n",
       "    }\n",
       "\n",
       "    .dataframe tbody tr th {\n",
       "        vertical-align: top;\n",
       "    }\n",
       "\n",
       "    .dataframe thead th {\n",
       "        text-align: right;\n",
       "    }\n",
       "</style>\n",
       "<table border=\"1\" class=\"dataframe\">\n",
       "  <thead>\n",
       "    <tr style=\"text-align: right;\">\n",
       "      <th></th>\n",
       "      <th>Height</th>\n",
       "      <th>Weight</th>\n",
       "    </tr>\n",
       "    <tr>\n",
       "      <th>Person Name</th>\n",
       "      <th></th>\n",
       "      <th></th>\n",
       "    </tr>\n",
       "  </thead>\n",
       "  <tbody>\n",
       "    <tr>\n",
       "      <th>Mary</th>\n",
       "      <td>50</td>\n",
       "      <td>70</td>\n",
       "    </tr>\n",
       "    <tr>\n",
       "      <th>Alex</th>\n",
       "      <td>55</td>\n",
       "      <td>65</td>\n",
       "    </tr>\n",
       "    <tr>\n",
       "      <th>John</th>\n",
       "      <td>70</td>\n",
       "      <td>160</td>\n",
       "    </tr>\n",
       "  </tbody>\n",
       "</table>\n",
       "</div>"
      ]
     },
     "execution_count": 19,
     "metadata": {},
     "output_type": "execute_result"
    }
   ],
   "execution_count": 19
  },
  {
   "metadata": {
    "ExecuteTime": {
     "end_time": "2025-10-11T15:19:10.342438Z",
     "start_time": "2025-10-11T15:19:10.337021Z"
    }
   },
   "cell_type": "code",
   "source": [
    "standard_scaler_obj = StandardScaler().fit(X_df)\n",
    "print(standard_scaler_obj.mean_)\n",
    "print(standard_scaler_obj.scale_)"
   ],
   "id": "f293c0618fd68475",
   "outputs": [
    {
     "name": "stdout",
     "output_type": "stream",
     "text": [
      "[58.33333333 98.33333333]\n",
      "[ 8.49836586 43.65266951]\n"
     ]
    }
   ],
   "execution_count": 20
  },
  {
   "metadata": {
    "ExecuteTime": {
     "end_time": "2025-10-11T15:19:20.453044Z",
     "start_time": "2025-10-11T15:19:20.449431Z"
    }
   },
   "cell_type": "code",
   "source": [
    "X_standardized_array = standard_scaler_obj.transform(X_df)\n",
    "X_standardized_array"
   ],
   "id": "5ea97c1e0f7e9b71",
   "outputs": [
    {
     "data": {
      "text/plain": [
       "array([[-0.98058068, -0.64906302],\n",
       "       [-0.39223227, -0.76360355],\n",
       "       [ 1.37281295,  1.41266656]])"
      ]
     },
     "execution_count": 21,
     "metadata": {},
     "output_type": "execute_result"
    }
   ],
   "execution_count": 21
  },
  {
   "metadata": {
    "ExecuteTime": {
     "end_time": "2025-10-11T15:22:04.413600Z",
     "start_time": "2025-10-11T15:22:04.408868Z"
    }
   },
   "cell_type": "code",
   "source": [
    "data_covariance = np.cov(X_standardized_array[:, 0], X_standardized_array[:, 1])\n",
    "data_covariance"
   ],
   "id": "70fd6bec9b32fa26",
   "outputs": [
    {
     "data": {
      "text/plain": [
       "array([[1.5       , 1.43764778],\n",
       "       [1.43764778, 1.5       ]])"
      ]
     },
     "execution_count": 24,
     "metadata": {},
     "output_type": "execute_result"
    }
   ],
   "execution_count": 24
  }
 ],
 "metadata": {
  "kernelspec": {
   "display_name": "Python 3",
   "language": "python",
   "name": "python3"
  },
  "language_info": {
   "codemirror_mode": {
    "name": "ipython",
    "version": 2
   },
   "file_extension": ".py",
   "mimetype": "text/x-python",
   "name": "python",
   "nbconvert_exporter": "python",
   "pygments_lexer": "ipython2",
   "version": "2.7.6"
  }
 },
 "nbformat": 4,
 "nbformat_minor": 5
}
