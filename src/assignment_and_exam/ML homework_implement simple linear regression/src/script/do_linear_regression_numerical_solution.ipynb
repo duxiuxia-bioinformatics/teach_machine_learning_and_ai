{
 "cells": [
  {
   "cell_type": "markdown",
   "id": "8fc77b83",
   "metadata": {},
   "source": [
    "This jupyter notebook and the associated gradient descent class do linear regression using the gradient descent method."
   ]
  },
  {
   "cell_type": "code",
   "execution_count": 9,
   "id": "63376a0bccbb9034",
   "metadata": {
    "ExecuteTime": {
     "end_time": "2025-09-24T19:01:06.443940Z",
     "start_time": "2025-09-24T19:01:06.441252Z"
    }
   },
   "outputs": [],
   "source": [
    "import sys\n",
    "import os\n",
    "\n",
    "import matplotlib.pyplot as plt\n",
    "from matplotlib import cm\n",
    "\n",
    "import numpy as np\n",
    "import pandas as pd\n",
    "\n",
    "from sklearn.preprocessing import StandardScaler\n",
    "import statsmodels.api as sm"
   ]
  },
  {
   "cell_type": "code",
   "execution_count": 10,
   "id": "66b92b7c526d428",
   "metadata": {
    "ExecuteTime": {
     "end_time": "2025-09-24T19:01:06.453809Z",
     "start_time": "2025-09-24T19:01:06.450828Z"
    }
   },
   "outputs": [],
   "source": [
    "# Get the absolute path of the current file\n",
    "try:\n",
    "    # Works in .py scripts\n",
    "    current_dir = os.path.dirname(os.path.abspath(__file__))\n",
    "except NameError:\n",
    "    # Fallback for Jupyter\n",
    "    current_dir = os.getcwd()\n",
    "\n",
    "# Go up N levels (here N=2, but you can adjust)\n",
    "# project_root = os.path.abspath(os.path.join(current_dir, \"..\", \"..\"))\n",
    "project_root = os.path.abspath(os.path.join(current_dir, \"..\"))\n",
    "\n",
    "# Add the project root to sys.path if not already there\n",
    "if project_root not in sys.path:\n",
    "    sys.path.insert(0, project_root)"
   ]
  },
  {
   "cell_type": "code",
   "execution_count": 11,
   "id": "c8d13fac",
   "metadata": {
    "ExecuteTime": {
     "end_time": "2025-09-24T19:01:06.462135Z",
     "start_time": "2025-09-24T19:01:06.460191Z"
    }
   },
   "outputs": [],
   "source": [
    "from ML_toolbox import d_lm_analytical_solution_class\n",
    "from ML_toolbox import d_mlr_gradient_descent_class"
   ]
  },
  {
   "cell_type": "code",
   "execution_count": 12,
   "id": "b80dd41c",
   "metadata": {
    "ExecuteTime": {
     "end_time": "2025-09-24T19:01:06.469403Z",
     "start_time": "2025-09-24T19:01:06.467535Z"
    }
   },
   "outputs": [],
   "source": [
    "# specify parameters for gradient descent\n",
    "delta_J_threshold = 0.000001\n",
    "learning_rate = 0.001"
   ]
  },
  {
   "cell_type": "code",
   "execution_count": 13,
   "id": "cb8718b4",
   "metadata": {
    "ExecuteTime": {
     "end_time": "2025-09-24T19:01:06.486884Z",
     "start_time": "2025-09-24T19:01:06.474039Z"
    }
   },
   "outputs": [
    {
     "data": {
      "text/html": [
       "<div>\n",
       "<style scoped>\n",
       "    .dataframe tbody tr th:only-of-type {\n",
       "        vertical-align: middle;\n",
       "    }\n",
       "\n",
       "    .dataframe tbody tr th {\n",
       "        vertical-align: top;\n",
       "    }\n",
       "\n",
       "    .dataframe thead th {\n",
       "        text-align: right;\n",
       "    }\n",
       "</style>\n",
       "<table border=\"1\" class=\"dataframe\">\n",
       "  <thead>\n",
       "    <tr style=\"text-align: right;\">\n",
       "      <th></th>\n",
       "      <th>x</th>\n",
       "      <th>y</th>\n",
       "      <th>y_theoretical</th>\n",
       "    </tr>\n",
       "  </thead>\n",
       "  <tbody>\n",
       "    <tr>\n",
       "      <th>0</th>\n",
       "      <td>-1.919126</td>\n",
       "      <td>2.420126</td>\n",
       "      <td>2.121310</td>\n",
       "    </tr>\n",
       "    <tr>\n",
       "      <th>1</th>\n",
       "      <td>-1.715856</td>\n",
       "      <td>2.385185</td>\n",
       "      <td>2.426216</td>\n",
       "    </tr>\n",
       "    <tr>\n",
       "      <th>2</th>\n",
       "      <td>-1.651483</td>\n",
       "      <td>2.585389</td>\n",
       "      <td>2.522776</td>\n",
       "    </tr>\n",
       "    <tr>\n",
       "      <th>3</th>\n",
       "      <td>-0.466234</td>\n",
       "      <td>4.129830</td>\n",
       "      <td>4.300649</td>\n",
       "    </tr>\n",
       "    <tr>\n",
       "      <th>4</th>\n",
       "      <td>-0.305381</td>\n",
       "      <td>4.031331</td>\n",
       "      <td>4.541929</td>\n",
       "    </tr>\n",
       "  </tbody>\n",
       "</table>\n",
       "</div>"
      ],
      "text/plain": [
       "          x         y  y_theoretical\n",
       "0 -1.919126  2.420126       2.121310\n",
       "1 -1.715856  2.385185       2.426216\n",
       "2 -1.651483  2.585389       2.522776\n",
       "3 -0.466234  4.129830       4.300649\n",
       "4 -0.305381  4.031331       4.541929"
      ]
     },
     "execution_count": 13,
     "metadata": {},
     "output_type": "execute_result"
    }
   ],
   "source": [
    "in_file_name = \"../../data/linear_regression_test_data.csv\"\n",
    "data_in_df = pd.read_csv(in_file_name)\n",
    "data_in_df.head()"
   ]
  },
  {
   "cell_type": "code",
   "execution_count": 14,
   "id": "8a2cfd9a71df9225",
   "metadata": {
    "ExecuteTime": {
     "end_time": "2025-09-24T19:01:06.495746Z",
     "start_time": "2025-09-24T19:01:06.493628Z"
    }
   },
   "outputs": [],
   "source": [
    "# x_name = ['size', 'number of bedrooms']\n",
    "x_name = ['x']\n",
    "y_name = ['y']\n",
    "\n",
    "variable_to_plot = ['x']"
   ]
  },
  {
   "cell_type": "code",
   "execution_count": 15,
   "id": "f46992ea",
   "metadata": {
    "ExecuteTime": {
     "end_time": "2025-09-24T19:01:06.653447Z",
     "start_time": "2025-09-24T19:01:06.508721Z"
    }
   },
   "outputs": [
    {
     "data": {
      "text/plain": [
       "Text(0, 0.5, 'y')"
      ]
     },
     "execution_count": 15,
     "metadata": {},
     "output_type": "execute_result"
    },
    {
     "data": {
      "image/png": "[encoded data removed]",
      "text/plain": [
       "<Figure size 500x300 with 1 Axes>"
      ]
     },
     "metadata": {},
     "output_type": "display_data"
    }
   ],
   "source": [
    "fig, ax = plt.subplots(figsize=(5,3))\n",
    "ax.scatter(data_in_df[variable_to_plot], data_in_df[y_name], marker='.', color='blue')\n",
    "ax.set_xlabel(variable_to_plot[0])\n",
    "ax.set_ylabel(y_name[0])"
   ]
  },
  {
   "cell_type": "code",
   "execution_count": 16,
   "id": "8304cb0359e99b7f",
   "metadata": {
    "ExecuteTime": {
     "end_time": "2025-09-24T19:01:06.693955Z",
     "start_time": "2025-09-24T19:01:06.687669Z"
    }
   },
   "outputs": [],
   "source": [
    "# normalize variables to make them have similar scale\n",
    "standard_scaler_obj = StandardScaler()\n",
    "standard_scaler_obj.fit(data_in_df[x_name + y_name])\n",
    "\n",
    "mean_needed_df = pd.Series(standard_scaler_obj.mean_, index=x_name + y_name)\n",
    "scale_needed_df = pd.Series(standard_scaler_obj.scale_, index=x_name + y_name)\n",
    "\n",
    "data_normalized_df = pd.DataFrame(standard_scaler_obj.transform(data_in_df[x_name+y_name]), \\\n",
    "                                  index=data_in_df.index, \\\n",
    "                                  columns=x_name + y_name)"
   ]
  },
  {
   "cell_type": "code",
   "execution_count": 17,
   "id": "c58d61870d2f94b",
   "metadata": {
    "ExecuteTime": {
     "end_time": "2025-09-24T19:01:06.749885Z",
     "start_time": "2025-09-24T19:01:06.745480Z"
    }
   },
   "outputs": [],
   "source": [
    "# get information on x (single variable) and y\n",
    "X = data_normalized_df[x_name]\n",
    "y = data_normalized_df[y_name]\n",
    "\n",
    "# augment X0\n",
    "X = sm.add_constant(X)\n",
    "\n",
    "number_of_variables = X.shape[1]\n",
    "\n",
    " # including X0\n",
    "initial_theta = np.zeros((number_of_variables, 1))"
   ]
  },
  {
   "cell_type": "code",
   "execution_count": 18,
   "id": "acc450e0a49e5f0",
   "metadata": {
    "ExecuteTime": {
     "end_time": "2025-09-24T19:01:06.800306Z",
     "start_time": "2025-09-24T19:01:06.795085Z"
    }
   },
   "outputs": [
    {
     "data": {
      "text/plain": [
       "0.001"
      ]
     },
     "execution_count": 18,
     "metadata": {},
     "output_type": "execute_result"
    }
   ],
   "source": [
    "delta_J_threshold\n",
    "initial_theta\n",
    "learning_rate"
   ]
  },
  {
   "cell_type": "code",
   "execution_count": 19,
   "id": "22aa5756405c48c9",
   "metadata": {
    "ExecuteTime": {
     "end_time": "2025-09-24T19:01:07.383603Z",
     "start_time": "2025-09-24T19:01:06.807111Z"
    }
   },
   "outputs": [],
   "source": [
    "# gradient descent\n",
    "obj_MLR = d_mlr_gradient_descent_class.MLR(delta_J_threshold=delta_J_threshold,\n",
    "                                               initial_theta=initial_theta,\n",
    "                                               learning_rate=learning_rate)\n",
    "\n",
    "obj_MLR.fit(X=X, y=y)\n",
    "optimal_theta = obj_MLR.optimal_theta\n",
    "J = obj_MLR.J"
   ]
  },
  {
   "cell_type": "code",
   "execution_count": 20,
   "id": "8e423859",
   "metadata": {
    "ExecuteTime": {
     "end_time": "2025-09-24T19:01:07.478584Z",
     "start_time": "2025-09-24T19:01:07.389998Z"
    }
   },
   "outputs": [
    {
     "data": {
      "text/plain": [
       "Text(0, 0.5, 'J')"
      ]
     },
     "execution_count": 20,
     "metadata": {},
     "output_type": "execute_result"
    },
    {
     "data": {
      "image/png": "[encoded data removed]",
      "text/plain": [
       "<Figure size 500x300 with 1 Axes>"
      ]
     },
     "metadata": {},
     "output_type": "display_data"
    },
    {
     "data": {
      "image/png": "[encoded data removed]",
      "text/plain": [
       "<Figure size 500x300 with 1 Axes>"
      ]
     },
     "metadata": {},
     "output_type": "display_data"
    }
   ],
   "source": [
    "y_hat = X @ optimal_theta\n",
    "\n",
    "# restore y_hat to the original data space\n",
    "y_hat_restored = y_hat * scale_needed_df[y_name][y_name].values + mean_needed_df[y_name].values\n",
    "\n",
    "\n",
    "fig, ax = plt.subplots(figsize=(5,3))\n",
    "ax.scatter(data_in_df[variable_to_plot], data_in_df[y_name], marker='.', color='blue')\n",
    "ax.plot(data_in_df[variable_to_plot], y_hat_restored, color='red')\n",
    "ax.set_xlabel(variable_to_plot[0])\n",
    "ax.set_ylabel(y_name[0])\n",
    "\n",
    "\n",
    "fig, ax = plt.subplots(figsize=(5,3))\n",
    "ax.scatter(range(len(J)), J, marker='.', color='blue')\n",
    "ax.set_xlabel('iterations')\n",
    "ax.set_ylabel('J')"
   ]
  },
  {
   "cell_type": "code",
   "execution_count": null,
   "id": "66514d99",
   "metadata": {
    "ExecuteTime": {
     "end_time": "2025-09-24T19:01:07.491915Z",
     "start_time": "2025-09-24T19:01:07.490194Z"
    }
   },
   "outputs": [],
   "source": []
  }
 ],
 "metadata": {
  "kernelspec": {
   "display_name": "Python 3 (ipykernel)",
   "language": "python",
   "name": "python3"
  },
  "language_info": {
   "codemirror_mode": {
    "name": "ipython",
    "version": 3
   },
   "file_extension": ".py",
   "mimetype": "text/x-python",
   "name": "python",
   "nbconvert_exporter": "python",
   "pygments_lexer": "ipython3",
   "version": "3.12.4"
  }
 },
 "nbformat": 4,
 "nbformat_minor": 5
}
