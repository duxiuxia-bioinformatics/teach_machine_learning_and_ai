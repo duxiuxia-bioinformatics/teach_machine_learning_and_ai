{
 "cells": [
  {
   "metadata": {},
   "cell_type": "code",
   "source": [
    "# Exercise 3: add 1 + 2 + 3 + ... + 100\n",
    "i = 0\n",
    "sum = 0\n",
    "while True:\n",
    "    if i < 100:\n",
    "        print(i)\n",
    "        i += 1\n",
    "        sum += i\n",
    "    else:\n",
    "        break\n",
    "print(sum)"
   ],
   "id": "d6bdeefaeeab7e04",
   "outputs": [],
   "execution_count": null
  },
  {
   "metadata": {
    "ExecuteTime": {
     "end_time": "2025-10-13T02:43:01.496137Z",
     "start_time": "2025-10-13T02:43:01.489840Z"
    }
   },
   "cell_type": "code",
   "source": [
    "# Exercise 5: create a nested loop to print out patterns of dots and numbers\n",
    "\n",
    "for num in range(1, 6, 1):\n",
    "    num_of_dots = 5 - num\n",
    "    cur_line = '.' * num_of_dots + str(num)\n",
    "    print(cur_line)"
   ],
   "id": "43b1cc18a5de32b8",
   "outputs": [
    {
     "name": "stdout",
     "output_type": "stream",
     "text": [
      "....1\n",
      "...2\n",
      "..3\n",
      ".4\n",
      "5\n"
     ]
    }
   ],
   "execution_count": 9
  },
  {
   "metadata": {
    "ExecuteTime": {
     "end_time": "2025-10-13T03:01:31.153678Z",
     "start_time": "2025-10-13T03:01:24.696924Z"
    }
   },
   "cell_type": "code",
   "source": [
    "# convert user-supplied input string by converting lowercase letters to l, uppercase letters to u, and converting letters that are neither lowercase nor uppercase to .\n",
    "\n",
    "input_string = input()\n",
    "\n",
    "converted_string = ''\n",
    "for cur_char in input_string:\n",
    "    print(cur_char)\n",
    "    if cur_char.islower():\n",
    "        converted_string += 'l'\n",
    "    elif cur_char.isupper():\n",
    "        converted_string += 'u'\n",
    "    else:\n",
    "        converted_string += '.'\n",
    "print(converted_string)"
   ],
   "id": "98966c6e7c500c3b",
   "outputs": [
    {
     "name": "stdout",
     "output_type": "stream",
     "text": [
      "X\n",
      "i\n",
      "u\n",
      "x\n",
      "i\n",
      "a\n",
      "%\n",
      "ulllll.\n"
     ]
    }
   ],
   "execution_count": 10
  },
  {
   "metadata": {
    "ExecuteTime": {
     "end_time": "2025-10-13T03:21:52.355460Z",
     "start_time": "2025-10-13T03:21:46.220670Z"
    }
   },
   "cell_type": "code",
   "source": [
    "# split an input string into two parts and print out the two parts \n",
    "\n",
    "input_str = input()\n",
    "\n",
    "if len(input_str) % 2 == 0:\n",
    "    print(input_str[:int(len(input_str)/2)])\n",
    "    print(input_str[int(len(input_str)/2):])\n",
    "else:\n",
    "    print(input_str[:int((len(input_str)-1)/2)])\n",
    "    print(input_str[int((len(input_str)-1)/2):])"
   ],
   "id": "512e49bec439dc76",
   "outputs": [
    {
     "name": "stdout",
     "output_type": "stream",
     "text": [
      "Jo\n",
      "yce\n"
     ]
    }
   ],
   "execution_count": 11
  }
 ],
 "metadata": {
  "kernelspec": {
   "display_name": "Python 3",
   "language": "python",
   "name": "python3"
  },
  "language_info": {
   "codemirror_mode": {
    "name": "ipython",
    "version": 2
   },
   "file_extension": ".py",
   "mimetype": "text/x-python",
   "name": "python",
   "nbconvert_exporter": "python",
   "pygments_lexer": "ipython2",
   "version": "2.7.6"
  }
 },
 "nbformat": 4,
 "nbformat_minor": 5
}
