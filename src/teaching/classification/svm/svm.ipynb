{
 "cells": [
  {
   "metadata": {},
   "cell_type": "code",
   "outputs": [],
   "execution_count": null,
   "source": [
    "# SVM on sklearn's Breast Cancer dataset\n",
    "# --------------------------------------\n",
    "# This script:\n",
    "# 1) loads the dataset\n",
    "# 2) splits train/test\n",
    "# 3) builds a Pipeline: StandardScaler -> SVC\n",
    "# 4) runs a small GridSearchCV over C and gamma (RBF) and linear kernel\n",
    "# 5) evaluates on the held-out test set with metrics + ROC AUC"
   ],
   "id": "ab9d75a2b2cb3d4c"
  },
  {
   "metadata": {
    "ExecuteTime": {
     "end_time": "2025-09-25T17:44:47.916976Z",
     "start_time": "2025-09-25T17:44:47.911544Z"
    }
   },
   "cell_type": "code",
   "source": [
    "from sklearn.datasets import load_breast_cancer\n",
    "from sklearn.model_selection import train_test_split, GridSearchCV\n",
    "from sklearn.pipeline import Pipeline\n",
    "from sklearn.preprocessing import StandardScaler\n",
    "from sklearn.svm import SVC\n",
    "from sklearn.metrics import classification_report, roc_auc_score, confusion_matrix\n",
    "import numpy as np"
   ],
   "id": "3eb82452d1c2896d",
   "outputs": [],
   "execution_count": 15
  },
  {
   "metadata": {
    "ExecuteTime": {
     "end_time": "2025-09-25T17:44:49.332503Z",
     "start_time": "2025-09-25T17:44:49.324017Z"
    }
   },
   "cell_type": "code",
   "source": [
    "# 1) Load data\n",
    "data = load_breast_cancer()\n",
    "X, y = data.data, data.target\n",
    "target_names = data.target_names  # ['malignant', 'benign']\n"
   ],
   "id": "4ebae04ce7d39c70",
   "outputs": [],
   "execution_count": 16
  },
  {
   "metadata": {
    "ExecuteTime": {
     "end_time": "2025-09-25T17:44:50.511456Z",
     "start_time": "2025-09-25T17:44:50.507401Z"
    }
   },
   "cell_type": "code",
   "source": [
    "# 2) Train/test split\n",
    "X_train, X_test, y_train, y_test = train_test_split(X, y, test_size=0.30, random_state=42, stratify=y)"
   ],
   "id": "986631d5c11f9f77",
   "outputs": [],
   "execution_count": 17
  },
  {
   "metadata": {
    "ExecuteTime": {
     "end_time": "2025-09-25T16:37:26.492505Z",
     "start_time": "2025-09-25T16:37:26.490856Z"
    }
   },
   "cell_type": "code",
   "source": [
    "# 3) Pipeline: scale -> SVM\n",
    "pipe = Pipeline(steps=[\n",
    "    (\"scaler\", StandardScaler()),\n",
    "    (\"svc\", SVC(probability=True, class_weight=None, random_state=42))\n",
    "])"
   ],
   "id": "d8362c27dd826727",
   "outputs": [],
   "execution_count": 11
  },
  {
   "metadata": {
    "ExecuteTime": {
     "end_time": "2025-09-25T17:47:01.603050Z",
     "start_time": "2025-09-25T17:47:01.600049Z"
    }
   },
   "cell_type": "code",
   "source": [
    "# 4) Hyperparameter grid\n",
    "#    Try linear and RBF kernels. For RBF, tune C and gamma on a small grid.\n",
    "param_grid = [\n",
    "    {\"svc__kernel\": [\"linear\"], \"svc__C\": [0.1, 1, 10, 100]},\n",
    "    {\"svc__kernel\": [\"rbf\"], \"svc__C\": [0.1, 1, 10, 100], \"svc__gamma\": [\"scale\", 0.01, 0.001]}\n",
    "]\n"
   ],
   "id": "58ca927213d7e431",
   "outputs": [],
   "execution_count": 18
  },
  {
   "metadata": {
    "ExecuteTime": {
     "end_time": "2025-09-25T17:47:04.795755Z",
     "start_time": "2025-09-25T17:47:03.690100Z"
    }
   },
   "cell_type": "code",
   "source": [
    "# Use ROC AUC to balance precision/recall tradeoffs on probability scores\n",
    "grid = GridSearchCV(\n",
    "    pipe,\n",
    "    param_grid=param_grid,\n",
    "    scoring=\"roc_auc\",\n",
    "    cv=5,\n",
    "    n_jobs=-1,\n",
    "    refit=True,\n",
    "    verbose=0\n",
    ")\n",
    "\n",
    "grid.fit(X_train, y_train)\n",
    "\n",
    "print(\"Best params:\", grid.best_params_)\n",
    "print(\"CV best ROC AUC: {:.3f}\".format(grid.best_score_))"
   ],
   "id": "439c5827031223e0",
   "outputs": [
    {
     "name": "stdout",
     "output_type": "stream",
     "text": [
      "Best params: {'svc__C': 1, 'svc__gamma': 0.01, 'svc__kernel': 'rbf'}\n",
      "CV best ROC AUC: 0.994\n"
     ]
    }
   ],
   "execution_count": 19
  },
  {
   "metadata": {
    "ExecuteTime": {
     "end_time": "2025-09-25T17:47:23.429927Z",
     "start_time": "2025-09-25T17:47:23.419115Z"
    }
   },
   "cell_type": "code",
   "source": [
    "# 5) Evaluate on test set\n",
    "best_model = grid.best_estimator_\n",
    "y_pred = best_model.predict(X_test)\n",
    "y_proba = best_model.predict_proba(X_test)[:, 1]  # probability of positive class\n",
    "\n",
    "print(\"\\nClassification report:\")\n",
    "print(classification_report(y_test, y_pred, target_names=target_names))\n",
    "\n",
    "print(\"Confusion matrix (rows=true, cols=pred):\")\n",
    "print(confusion_matrix(y_test, y_pred))\n",
    "\n",
    "test_auc = roc_auc_score(y_test, y_proba)\n",
    "print(\"Test ROC AUC: {:.3f}\".format(test_auc))"
   ],
   "id": "38b79890b0a56546",
   "outputs": [
    {
     "name": "stdout",
     "output_type": "stream",
     "text": [
      "\n",
      "Classification report:\n",
      "              precision    recall  f1-score   support\n",
      "\n",
      "   malignant       0.98      0.92      0.95        64\n",
      "      benign       0.95      0.99      0.97       107\n",
      "\n",
      "    accuracy                           0.96       171\n",
      "   macro avg       0.97      0.96      0.96       171\n",
      "weighted avg       0.97      0.96      0.96       171\n",
      "\n",
      "Confusion matrix (rows=true, cols=pred):\n",
      "[[ 59   5]\n",
      " [  1 106]]\n",
      "Test ROC AUC: 0.996\n"
     ]
    }
   ],
   "execution_count": 20
  }
 ],
 "metadata": {
  "kernelspec": {
   "display_name": "Python 3",
   "language": "python",
   "name": "python3"
  },
  "language_info": {
   "codemirror_mode": {
    "name": "ipython",
    "version": 2
   },
   "file_extension": ".py",
   "mimetype": "text/x-python",
   "name": "python",
   "nbconvert_exporter": "python",
   "pygments_lexer": "ipython2",
   "version": "2.7.6"
  }
 },
 "nbformat": 4,
 "nbformat_minor": 5
}
