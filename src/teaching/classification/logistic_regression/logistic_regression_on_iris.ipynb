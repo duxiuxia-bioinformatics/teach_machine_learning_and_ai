{
 "cells": [
  {
   "cell_type": "code",
   "id": "initial_id",
   "metadata": {
    "collapsed": true,
    "ExecuteTime": {
     "end_time": "2025-09-30T22:31:42.298638Z",
     "start_time": "2025-09-30T22:31:41.588267Z"
    }
   },
   "source": [
    "from sklearn.datasets import load_iris\n",
    "from sklearn.preprocessing import StandardScaler\n",
    "from sklearn.linear_model import LogisticRegression"
   ],
   "outputs": [],
   "execution_count": 1
  },
  {
   "metadata": {
    "ExecuteTime": {
     "end_time": "2025-09-30T22:31:42.311108Z",
     "start_time": "2025-09-30T22:31:42.305770Z"
    }
   },
   "cell_type": "code",
   "source": [
    "# import data\n",
    "X, y = load_iris(return_X_y=True)\n",
    "print(X[0:5, :])"
   ],
   "id": "f2fb3d87d5d679bd",
   "outputs": [
    {
     "name": "stdout",
     "output_type": "stream",
     "text": [
      "[[5.1 3.5 1.4 0.2]\n",
      " [4.9 3.  1.4 0.2]\n",
      " [4.7 3.2 1.3 0.2]\n",
      " [4.6 3.1 1.5 0.2]\n",
      " [5.  3.6 1.4 0.2]]\n"
     ]
    }
   ],
   "execution_count": 2
  },
  {
   "metadata": {
    "ExecuteTime": {
     "end_time": "2025-09-30T22:32:43.235767Z",
     "start_time": "2025-09-30T22:32:43.232810Z"
    }
   },
   "cell_type": "code",
   "source": [
    "# standardize the data\n",
    "X_scaled = StandardScaler().fit_transform(X)\n",
    "print(X_scaled[0:5, :])"
   ],
   "id": "8c0c5a1e6742b708",
   "outputs": [
    {
     "name": "stdout",
     "output_type": "stream",
     "text": [
      "[[-0.90068117  1.01900435 -1.34022653 -1.3154443 ]\n",
      " [-1.14301691 -0.13197948 -1.34022653 -1.3154443 ]\n",
      " [-1.38535265  0.32841405 -1.39706395 -1.3154443 ]\n",
      " [-1.50652052  0.09821729 -1.2833891  -1.3154443 ]\n",
      " [-1.02184904  1.24920112 -1.34022653 -1.3154443 ]]\n"
     ]
    }
   ],
   "execution_count": 4
  },
  {
   "metadata": {
    "ExecuteTime": {
     "end_time": "2025-09-30T22:32:51.002234Z",
     "start_time": "2025-09-30T22:32:50.994637Z"
    }
   },
   "cell_type": "code",
   "source": [
    "# do logistic regression using sklearn\n",
    "clf = LogisticRegression(random_state=0).fit(X_scaled, y)\n",
    "prediction = clf.predict(X[:2, :])\n",
    "print(prediction)"
   ],
   "id": "8490255fa8022212",
   "outputs": [
    {
     "name": "stdout",
     "output_type": "stream",
     "text": [
      "[1 1]\n"
     ]
    }
   ],
   "execution_count": 5
  }
 ],
 "metadata": {
  "kernelspec": {
   "display_name": "Python 3",
   "language": "python",
   "name": "python3"
  },
  "language_info": {
   "codemirror_mode": {
    "name": "ipython",
    "version": 2
   },
   "file_extension": ".py",
   "mimetype": "text/x-python",
   "name": "python",
   "nbconvert_exporter": "python",
   "pygments_lexer": "ipython2",
   "version": "2.7.6"
  }
 },
 "nbformat": 4,
 "nbformat_minor": 5
}
