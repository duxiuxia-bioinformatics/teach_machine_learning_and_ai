{
 "cells": [
  {
   "cell_type": "markdown",
   "id": "b51311c0",
   "metadata": {},
   "source": [
    "# This tutoral is on basic statistics."
   ]
  },
  {
   "cell_type": "code",
   "id": "52bec86c",
   "metadata": {
    "ExecuteTime": {
     "end_time": "2025-10-02T16:17:52.433566Z",
     "start_time": "2025-10-02T16:17:51.783309Z"
    }
   },
   "source": [
    "import numpy as np\n",
    "import matplotlib.pyplot as plt\n",
    "%matplotlib inline\n",
    "\n",
    "from scipy.stats import chi2, t, f"
   ],
   "outputs": [],
   "execution_count": 1
  },
  {
   "cell_type": "markdown",
   "id": "5c99a086",
   "metadata": {},
   "source": [
    "## Basic statistical measures"
   ]
  },
  {
   "cell_type": "markdown",
   "id": "7d9efe58",
   "metadata": {},
   "source": "### mean, variance, covariance, correlation, and cosine similarity"
  },
  {
   "cell_type": "code",
   "id": "16362e78",
   "metadata": {
    "scrolled": true,
    "ExecuteTime": {
     "end_time": "2025-10-02T16:17:56.858886Z",
     "start_time": "2025-10-02T16:17:56.856291Z"
    }
   },
   "source": [
    "# mean\n",
    "xx = np.array([1, 2, 3, 4, 5, 6])\n",
    "mu_xx = sum(xx) / len(xx)\n",
    "print(mu_xx)\n",
    "print(np.mean(xx))"
   ],
   "outputs": [
    {
     "name": "stdout",
     "output_type": "stream",
     "text": [
      "3.5\n",
      "3.5\n"
     ]
    }
   ],
   "execution_count": 2
  },
  {
   "cell_type": "code",
   "id": "3a121e3f",
   "metadata": {
    "ExecuteTime": {
     "end_time": "2025-10-02T16:19:21.814088Z",
     "start_time": "2025-10-02T16:19:21.811793Z"
    }
   },
   "source": [
    "# mean centering\n",
    "xx = np.array([1,2,3,4,5])\n",
    "print(xx - xx.mean())\n",
    "\n",
    "# mean of mean-centered data is 0.0\n",
    "print(np.mean(xx - xx.mean()))"
   ],
   "outputs": [
    {
     "name": "stdout",
     "output_type": "stream",
     "text": [
      "[-2. -1.  0.  1.  2.]\n",
      "0.0\n"
     ]
    }
   ],
   "execution_count": 5
  },
  {
   "cell_type": "code",
   "id": "d0c0a8df",
   "metadata": {
    "ExecuteTime": {
     "end_time": "2025-10-02T16:19:23.840028Z",
     "start_time": "2025-10-02T16:19:23.837161Z"
    }
   },
   "source": [
    "# variance: pay attention to the Delta Degree of Freedom (ddof)\n",
    "var_xx = sum((xx-xx.mean())*(xx-xx.mean()))/(len(xx))\n",
    "print(var_xx)\n",
    "print(np.var(xx, ddof=0))"
   ],
   "outputs": [
    {
     "name": "stdout",
     "output_type": "stream",
     "text": [
      "2.0\n",
      "2.0\n"
     ]
    }
   ],
   "execution_count": 6
  },
  {
   "metadata": {
    "ExecuteTime": {
     "end_time": "2025-10-02T16:20:29.865162Z",
     "start_time": "2025-10-02T16:20:29.862976Z"
    }
   },
   "cell_type": "code",
   "source": [
    "var_xx = sum((xx-xx.mean())*(xx-xx.mean()))/(len(xx)-1)\n",
    "print(var_xx)\n",
    "print(np.var(xx, ddof=1))"
   ],
   "id": "12ac976e3addf029",
   "outputs": [
    {
     "name": "stdout",
     "output_type": "stream",
     "text": [
      "2.5\n",
      "2.5\n"
     ]
    }
   ],
   "execution_count": 8
  },
  {
   "cell_type": "code",
   "id": "7ac5fcb1",
   "metadata": {
    "ExecuteTime": {
     "end_time": "2025-10-02T16:20:59.638375Z",
     "start_time": "2025-10-02T16:20:59.636049Z"
    }
   },
   "source": [
    "# covariance\n",
    "yy = np.array([2, 4, 6, 8, 10])\n",
    "\n",
    "var_yy = sum((yy-yy.mean())*(yy-yy.mean()))/(len(yy)-1)\n",
    "print(var_yy)\n",
    "print(np.var(yy, ddof=1))\n",
    "print()"
   ],
   "outputs": [
    {
     "name": "stdout",
     "output_type": "stream",
     "text": [
      "10.0\n",
      "10.0\n",
      "\n"
     ]
    }
   ],
   "execution_count": 9
  },
  {
   "metadata": {
    "ExecuteTime": {
     "end_time": "2025-10-02T16:21:33.902889Z",
     "start_time": "2025-10-02T16:21:33.900207Z"
    }
   },
   "cell_type": "code",
   "source": [
    "cov_xx_yy = sum((xx-mu_xx)*(yy-yy.mean()))/(len(xx)-1)\n",
    "print(cov_xx_yy)"
   ],
   "id": "47aeed57f81b2beb",
   "outputs": [
    {
     "name": "stdout",
     "output_type": "stream",
     "text": [
      "5.0\n"
     ]
    }
   ],
   "execution_count": 10
  },
  {
   "metadata": {
    "ExecuteTime": {
     "end_time": "2025-10-02T16:21:56.842277Z",
     "start_time": "2025-10-02T16:21:56.839261Z"
    }
   },
   "cell_type": "code",
   "source": [
    "print(np.cov(xx, yy, ddof=0))\n",
    "print()\n",
    "print(np.cov(xx, yy, ddof=1))"
   ],
   "id": "29cf9315703f3aa2",
   "outputs": [
    {
     "name": "stdout",
     "output_type": "stream",
     "text": [
      "[[2. 4.]\n",
      " [4. 8.]]\n",
      "\n",
      "[[ 2.5  5. ]\n",
      " [ 5.  10. ]]\n"
     ]
    }
   ],
   "execution_count": 12
  },
  {
   "cell_type": "code",
   "id": "4e019c7d",
   "metadata": {
    "ExecuteTime": {
     "end_time": "2025-10-02T16:22:14.517811Z",
     "start_time": "2025-10-02T16:22:14.514572Z"
    }
   },
   "source": [
    "# correlation\n",
    "print(np.corrcoef(xx, yy))"
   ],
   "outputs": [
    {
     "name": "stdout",
     "output_type": "stream",
     "text": [
      "[[1. 1.]\n",
      " [1. 1.]]\n"
     ]
    }
   ],
   "execution_count": 13
  },
  {
   "cell_type": "code",
   "id": "769cc453",
   "metadata": {
    "ExecuteTime": {
     "end_time": "2025-10-02T16:22:43.932175Z",
     "start_time": "2025-10-02T16:22:43.929368Z"
    }
   },
   "source": [
    "zz = np.array([1, 7, 4, 3, 2])\n",
    "print('covariance')\n",
    "print(np.cov(xx, zz))\n",
    "print()\n",
    "\n",
    "print('correlation')\n",
    "print(np.corrcoef(xx, zz))\n",
    "print()"
   ],
   "outputs": [
    {
     "name": "stdout",
     "output_type": "stream",
     "text": [
      "covariance\n",
      "[[ 2.5 -0.5]\n",
      " [-0.5  5.3]]\n",
      "\n",
      "correlation\n",
      "[[ 1.         -0.13736056]\n",
      " [-0.13736056  1.        ]]\n",
      "\n"
     ]
    }
   ],
   "execution_count": 14
  },
  {
   "metadata": {},
   "cell_type": "markdown",
   "source": "Correlation is equal to the cosine similarity of mean-centered data",
   "id": "e0c5d36be7505e88"
  },
  {
   "metadata": {
    "ExecuteTime": {
     "end_time": "2025-10-02T16:23:25.838425Z",
     "start_time": "2025-10-02T16:23:25.835451Z"
    }
   },
   "cell_type": "code",
   "source": [
    "cosine = np.dot(xx, zz) / (np.linalg.norm(xx, ord=2) * np.linalg.norm(zz, ord=2))\n",
    "print(cosine)\n",
    "\n",
    "cosine = np.dot(xx-xx.mean(), zz-zz.mean()) / (np.linalg.norm(xx-xx.mean(), ord=2) * np.linalg.norm(zz-zz.mean(), ord=2))\n",
    "print(cosine)"
   ],
   "id": "57d5528e1bbcde88",
   "outputs": [
    {
     "name": "stdout",
     "output_type": "stream",
     "text": [
      "0.7433634259021153\n",
      "-0.137360563948689\n"
     ]
    }
   ],
   "execution_count": 15
  },
  {
   "cell_type": "markdown",
   "id": "5b069812",
   "metadata": {},
   "source": [
    "### dot product"
   ]
  },
  {
   "cell_type": "code",
   "id": "3c9147dd",
   "metadata": {
    "ExecuteTime": {
     "end_time": "2025-10-02T16:24:47.733598Z",
     "start_time": "2025-10-02T16:24:47.731397Z"
    }
   },
   "source": [
    "dot_product = sum(xx*yy)\n",
    "print(dot_product)\n",
    "dot_product = np.dot(xx, yy)\n",
    "print(dot_product)"
   ],
   "outputs": [
    {
     "name": "stdout",
     "output_type": "stream",
     "text": [
      "110\n",
      "110\n"
     ]
    }
   ],
   "execution_count": 16
  },
  {
   "metadata": {
    "ExecuteTime": {
     "end_time": "2025-10-02T16:25:26.863330Z",
     "start_time": "2025-10-02T16:25:26.860455Z"
    }
   },
   "cell_type": "code",
   "source": [
    "magnitude_xx = np.sqrt(sum(xx*xx))\n",
    "print(magnitude_xx)\n",
    "magnitude_xx = np.linalg.norm(xx, ord=2)\n",
    "print(magnitude_xx)"
   ],
   "id": "775393f3b92db4be",
   "outputs": [
    {
     "name": "stdout",
     "output_type": "stream",
     "text": [
      "7.416198487095663\n",
      "7.416198487095663\n"
     ]
    }
   ],
   "execution_count": 17
  },
  {
   "metadata": {
    "ExecuteTime": {
     "end_time": "2025-10-02T16:25:30.225239Z",
     "start_time": "2025-10-02T16:25:30.222279Z"
    }
   },
   "cell_type": "code",
   "source": [
    "magnitude_yy = np.sqrt(sum(yy*yy))\n",
    "\n",
    "cosine_similarity = dot_product / (magnitude_xx * magnitude_yy)\n",
    "print(cosine_similarity)"
   ],
   "id": "7c7fc9d0a238c2bd",
   "outputs": [
    {
     "name": "stdout",
     "output_type": "stream",
     "text": [
      "1.0\n"
     ]
    }
   ],
   "execution_count": 18
  },
  {
   "cell_type": "code",
   "id": "b1bab80e",
   "metadata": {
    "ExecuteTime": {
     "end_time": "2025-10-02T16:26:08.422692Z",
     "start_time": "2025-10-02T16:26:08.419541Z"
    }
   },
   "source": [
    "# mean-center xx and yy, and re-calculate cosine value\n",
    "xx_mean_centered = xx-xx.mean()\n",
    "yy_mean_centered = yy-yy.mean()\n",
    "dot_product = sum(xx_mean_centered * yy_mean_centered)\n",
    "magnitude_xx_mean_centered = np.sqrt(sum(xx_mean_centered*xx_mean_centered))\n",
    "magnitude_yy_mean_centered = np.sqrt(sum(yy_mean_centered*yy_mean_centered))\n",
    "print(dot_product / (magnitude_xx_mean_centered*magnitude_yy_mean_centered))"
   ],
   "outputs": [
    {
     "name": "stdout",
     "output_type": "stream",
     "text": [
      "0.9999999999999998\n"
     ]
    }
   ],
   "execution_count": 20
  },
  {
   "cell_type": "code",
   "id": "9c903468",
   "metadata": {
    "ExecuteTime": {
     "end_time": "2025-10-02T16:26:22.001761Z",
     "start_time": "2025-10-02T16:26:21.999728Z"
    }
   },
   "source": [
    "xx = np.array([1, 2])\n",
    "yy = np.array([2, 4])\n",
    "cosine_similarity = sum(xx*yy)/(np.sqrt(sum(xx**2)) * np.sqrt(sum(yy**2)))\n",
    "print(cosine_similarity)"
   ],
   "outputs": [
    {
     "name": "stdout",
     "output_type": "stream",
     "text": [
      "0.9999999999999998\n"
     ]
    }
   ],
   "execution_count": 22
  },
  {
   "cell_type": "code",
   "id": "1f3f9cb4",
   "metadata": {
    "ExecuteTime": {
     "end_time": "2025-10-02T16:26:27.285454Z",
     "start_time": "2025-10-02T16:26:27.283019Z"
    }
   },
   "source": [
    "zz = xx - 5\n",
    "cosine_similarity = sum(zz*yy)/(np.sqrt(sum(zz**2)) * np.sqrt(sum(yy**2)))\n",
    "print(cosine_similarity)"
   ],
   "outputs": [
    {
     "name": "stdout",
     "output_type": "stream",
     "text": [
      "-0.8944271909999159\n"
     ]
    }
   ],
   "execution_count": 23
  },
  {
   "cell_type": "markdown",
   "id": "77825a5f",
   "metadata": {},
   "source": [
    "## Statistical distributions"
   ]
  },
  {
   "cell_type": "markdown",
   "id": "852b43c5",
   "metadata": {},
   "source": [
    "### Uniform distributions"
   ]
  },
  {
   "cell_type": "code",
   "execution_count": 35,
   "id": "946a0983",
   "metadata": {},
   "outputs": [
    {
     "name": "stdout",
     "output_type": "stream",
     "text": [
      "\n"
     ]
    },
    {
     "data": {
      "image/png": "[encoded data removed]",
      "text/plain": [
       "<Figure size 432x288 with 1 Axes>"
      ]
     },
     "metadata": {
      "needs_background": "light"
     },
     "output_type": "display_data"
    },
    {
     "data": {
      "image/png": "[encoded data removed]",
      "text/plain": [
       "<Figure size 432x288 with 1 Axes>"
      ]
     },
     "metadata": {
      "needs_background": "light"
     },
     "output_type": "display_data"
    }
   ],
   "source": [
    "# generate uniformly distributed random numbers and plot the histogram\n",
    "x = np.random.rand(1000)\n",
    "fig, ax = plt.subplots()\n",
    "ax.hist(x)\n",
    "ax.set_xlabel('x')\n",
    "ax.set_ylabel('counts')\n",
    "ax.set_title('histogram of data from a uniform distribution')\n",
    "print()\n",
    "\n",
    "yy = 2 * x - 1\n",
    "fig, ax = plt.subplots()\n",
    "ax.hist(yy)\n",
    "ax.set_xlabel('x')\n",
    "ax.set_ylabel('counts')\n",
    "ax.set_title('histogram of data from a uniform distribution')\n",
    "\n",
    "# another way to generate uniformly distributed random numbers\n",
    "x = np.random.uniform(1000)"
   ]
  },
  {
   "cell_type": "markdown",
   "id": "b55951e0",
   "metadata": {},
   "source": [
    "### Gaussian distributions"
   ]
  },
  {
   "cell_type": "code",
   "execution_count": 38,
   "id": "5cdeb649",
   "metadata": {},
   "outputs": [
    {
     "name": "stdout",
     "output_type": "stream",
     "text": [
      "<class 'numpy.ndarray'>\n",
      "length of counts = 100\n",
      "length of bin_edges = 101\n",
      "\n",
      "<class 'numpy.ndarray'>\n",
      "length of hist_result[0] =100\n",
      "[  1.   0.   1.   0.   1.   0.   0.   0.   1.   1.   1.   2.   6.   0.\n",
      "   5.   2.   4.   9.   7.  10.  15.  21.  26.  26.  37.  34.  23.  54.\n",
      "  51.  49.  82.  91. 115.  95. 125. 149. 156. 170. 192. 190. 214. 220.\n",
      " 224. 268. 272. 299. 312. 314. 320. 319. 299. 306. 324. 308. 317. 324.\n",
      " 253. 285. 285. 274. 267. 229. 206. 197. 178. 171. 143. 161. 135. 119.\n",
      "  99.  91.  84.  57.  63.  62.  34.  44.  36.  15.  28.  23.  16.   8.\n",
      "   9.   8.   5.   4.   5.   2.   2.   2.   0.   2.   0.   1.   2.   2.\n",
      "   0.   1.]\n",
      "\n",
      "<class 'numpy.ndarray'>\n",
      "length of hist_result[1] = 100\n",
      "[-4.16280675 -4.08234098 -4.00187521 -3.92140945 -3.84094368 -3.76047791\n",
      " -3.68001214 -3.59954638 -3.51908061 -3.43861484 -3.35814907 -3.2776833\n",
      " -3.19721754 -3.11675177 -3.036286   -2.95582023 -2.87535446 -2.7948887\n",
      " -2.71442293 -2.63395716 -2.55349139 -2.47302562 -2.39255986 -2.31209409\n",
      " -2.23162832 -2.15116255 -2.07069678 -1.99023102 -1.90976525 -1.82929948\n",
      " -1.74883371 -1.66836794 -1.58790218 -1.50743641 -1.42697064 -1.34650487\n",
      " -1.2660391  -1.18557334 -1.10510757 -1.0246418  -0.94417603 -0.86371026\n",
      " -0.7832445  -0.70277873 -0.62231296 -0.54184719 -0.46138142 -0.38091566\n",
      " -0.30044989 -0.21998412 -0.13951835 -0.05905258  0.02141318  0.10187895\n",
      "  0.18234472  0.26281049  0.34327625  0.42374202  0.50420779  0.58467356\n",
      "  0.66513933  0.74560509  0.82607086  0.90653663  0.9870024   1.06746817\n",
      "  1.14793393  1.2283997   1.30886547  1.38933124  1.46979701  1.55026277\n",
      "  1.63072854  1.71119431  1.79166008  1.87212585  1.95259161  2.03305738\n",
      "  2.11352315  2.19398892  2.27445469  2.35492045  2.43538622  2.51585199\n",
      "  2.59631776  2.67678353  2.75724929  2.83771506  2.91818083  2.9986466\n",
      "  3.07911237  3.15957813  3.2400439   3.32050967  3.40097544  3.48144121\n",
      "  3.56190697  3.64237274  3.72283851  3.80330428  3.88377005]\n"
     ]
    },
    {
     "data": {
      "image/png": "[encoded data removed]",
      "text/plain": [
       "<Figure size 432x288 with 1 Axes>"
      ]
     },
     "metadata": {
      "needs_background": "light"
     },
     "output_type": "display_data"
    },
    {
     "data": {
      "image/png": "[encoded data removed]",
      "text/plain": [
       "<Figure size 432x288 with 1 Axes>"
      ]
     },
     "metadata": {
      "needs_background": "light"
     },
     "output_type": "display_data"
    }
   ],
   "source": [
    "# generate normally distributed random numbers and plot the histogram\n",
    "x = np.random.normal(loc=0.0, scale=1.0, size=10000)\n",
    "counts, bin_edges = np.histogram(x, bins=100)\n",
    "print(type(counts))\n",
    "print('length of counts = ' + str(len(counts)))\n",
    "print('length of bin_edges = ' + str(len(bins)))\n",
    "print()\n",
    "\n",
    "# plot the histogram based on the results from np.histogram\n",
    "fig, ax = plt.subplots()\n",
    "ax.plot(bin_edges[1:], counts)\n",
    "ax.set_xlabel('bin_edges')\n",
    "ax.set_ylabel('counts')\n",
    "ax.set_title('histogram of normally distributed random numbers')\n",
    "\n",
    "# plot the histogram directly using matplotlib.pyplot\n",
    "fig, ax = plt.subplots()\n",
    "hist_result = plt.hist(x, bins=100)\n",
    "ax.set_xlabel('x')\n",
    "ax.set_ylabel('counts')\n",
    "ax.set_title('generate and plot histogram of normally distributed random numbers using matplotlib')\n",
    "\n",
    "# counts\n",
    "print(type(hist_result[0]))\n",
    "print('length of hist_result[0] =' + str(len(hist_result[0])))\n",
    "print(hist_result[0])\n",
    "print()\n",
    "\n",
    "# bins\n",
    "print(type(hist_result[1]))\n",
    "print('length of hist_result[1] = ' + str(len(hist_result[0])))\n",
    "print(hist_result[1])\n"
   ]
  },
  {
   "cell_type": "markdown",
   "id": "0ea7a6e9",
   "metadata": {},
   "source": [
    "### chi-squared distribution"
   ]
  },
  {
   "cell_type": "code",
   "id": "36f2fb8d",
   "metadata": {
    "ExecuteTime": {
     "end_time": "2025-10-02T16:27:35.375924Z",
     "start_time": "2025-10-02T16:27:35.293837Z"
    }
   },
   "source": [
    "df = 5\n",
    "\n",
    "x = np.linspace(chi2.ppf(0.01, df), chi2.ppf(0.99, df), 100)\n",
    "\n",
    "fig, ax = plt.subplots(1, 1)\n",
    "ax.plot(x, chi2.pdf(x, df), 'r-', lw=5, alpha=0.6, label='chi2 pdf')\n",
    "rv = chi2(df)\n",
    "ax.plot(x, rv.pdf(x), 'k-', lw=2, label='frozen pdf')\n",
    "r = chi2.rvs(df, size=1000)\n",
    "ax.hist(r, density=True, bins='auto', histtype='stepfilled', alpha=0.2)\n",
    "ax.set_xlim([x[0], x[-1]])\n",
    "ax.legend(loc='best', frameon=False)"
   ],
   "outputs": [
    {
     "data": {
      "text/plain": [
       "<matplotlib.legend.Legend at 0x13a9e3320>"
      ]
     },
     "execution_count": 24,
     "metadata": {},
     "output_type": "execute_result"
    },
    {
     "data": {
      "text/plain": [
       "<Figure size 640x480 with 1 Axes>"
      ],
      "image/png": "[encoded data removed]"
     },
     "metadata": {},
     "output_type": "display_data"
    }
   ],
   "execution_count": 24
  },
  {
   "cell_type": "markdown",
   "id": "cf8c6c02",
   "metadata": {},
   "source": [
    "### Student's t distribution"
   ]
  },
  {
   "cell_type": "code",
   "id": "15657f01",
   "metadata": {
    "ExecuteTime": {
     "end_time": "2025-10-02T16:27:41.066050Z",
     "start_time": "2025-10-02T16:27:41.013805Z"
    }
   },
   "source": [
    "df = 100\n",
    "\n",
    "fig, ax = plt.subplots(1, 1)\n",
    "mean, var, skew, kurt = t.stats(df, moments='mvsk')\n",
    "x = np.linspace(t.ppf(0.01, df), t.ppf(0.99, df), 100)\n",
    "ax.plot(x, t.pdf(x, df), 'r-', lw=5, alpha=0.6, label='t pdf')\n",
    "ax.legend()\n",
    "\n",
    "print(t.cdf(2, df))\n",
    "print(1.0 - t.cdf(2, df))"
   ],
   "outputs": [
    {
     "name": "stdout",
     "output_type": "stream",
     "text": [
      "0.9758939106344332\n",
      "0.024106089365566796\n"
     ]
    },
    {
     "data": {
      "text/plain": [
       "<Figure size 640x480 with 1 Axes>"
      ],
      "image/png": "[encoded data removed]"
     },
     "metadata": {},
     "output_type": "display_data"
    }
   ],
   "execution_count": 25
  },
  {
   "cell_type": "markdown",
   "id": "fa06a34c",
   "metadata": {},
   "source": [
    "### F distribution"
   ]
  },
  {
   "cell_type": "code",
   "id": "18a84711",
   "metadata": {
    "ExecuteTime": {
     "end_time": "2025-10-02T16:27:47.553761Z",
     "start_time": "2025-10-02T16:27:47.482598Z"
    }
   },
   "source": [
    "# the degree of freedom for the numerator and denominator defines an F distribution\n",
    "dfn, dfd = 29, 18 # 1, 10 # 29, 18\n",
    "\n",
    "lower_cdf = 0.001\n",
    "upper_cdf = 0.999\n",
    "lower_x_boundary = f.ppf(lower_cdf, dfn, dfd)\n",
    "print('lower and upper x boundary:')\n",
    "print(lower_x_boundary)\n",
    "upper_x_boundary = f.ppf(upper_cdf, dfn, dfd)\n",
    "print(upper_x_boundary)\n",
    "print()\n",
    "\n",
    "num_of_x_point = 10000\n",
    "\n",
    "x = np.linspace(lower_x_boundary, upper_x_boundary, num_of_x_point)\n",
    "\n",
    "# plot the density of an F distribution\n",
    "pdf = f.pdf(x, dfn, dfd)\n",
    "fig, ax = plt.subplots()\n",
    "ax.plot(x, pdf, 'r-', lw=5, alpha=0.6, label='F pdf')\n",
    "\n",
    "# Check accuracy of cdf and ppf\n",
    "cdf_list = [0.001, 0.5, 0.999]\n",
    "x_vals_for_specified_cdf = f.ppf(cdf_list, dfn, dfd)\n",
    "print(x_vals_for_specified_cdf)\n",
    "print()\n",
    "\n",
    "tf = np.allclose([0.001, 0.5, 0.999], f.cdf(x_vals_for_specified_cdf, dfn, dfd))\n",
    "print(tf)\n",
    "print()\n",
    "\n",
    "# generate random numbers\n",
    "rvs = f.rvs(dfn, dfd, size=num_of_x_point)\n",
    "\n",
    "# compare the histogram with the distribution\n",
    "ax.hist(rvs, density=True, bins='auto', histtype='stepfilled', alpha=0.2, label='histogram', color='blue')\n",
    "\n",
    "ax.legend(loc='best', frameon=False)\n",
    "\n",
    "# get the p-value for a particular F-statistic value\n",
    "f_statistic = 2.0\n",
    "p_value = 1.0 - f.cdf(f_statistic, dfn, dfd)\n",
    "print('p_vlaue =' + str(round(p_value,4)))"
   ],
   "outputs": [
    {
     "name": "stdout",
     "output_type": "stream",
     "text": [
      "lower and upper x boundary:\n",
      "0.27535706796358933\n",
      "4.32127784414467\n",
      "\n",
      "[0.27535707 1.01440182 4.32127784]\n",
      "\n",
      "True\n",
      "\n",
      "p_vlaue =0.0634\n"
     ]
    },
    {
     "data": {
      "text/plain": [
       "<Figure size 640x480 with 1 Axes>"
      ],
      "image/png": "[encoded data removed]"
     },
     "metadata": {},
     "output_type": "display_data"
    }
   ],
   "execution_count": 26
  },
  {
   "cell_type": "code",
   "id": "5934e784",
   "metadata": {
    "ExecuteTime": {
     "end_time": "2025-10-02T16:28:27.116599Z",
     "start_time": "2025-10-02T16:28:27.114009Z"
    }
   },
   "source": [
    "# mean squared error\n",
    "from sklearn.metrics import mean_squared_error\n",
    "\n",
    "y_true = [[0.5, 1],[-1, 1],[7, -6]]\n",
    "y_pred = [[0, 2],[-1, 2],[8, -5]]\n",
    "print(y_true)\n",
    "print(y_pred)"
   ],
   "outputs": [
    {
     "name": "stdout",
     "output_type": "stream",
     "text": [
      "[[0.5, 1], [-1, 1], [7, -6]]\n",
      "[[0, 2], [-1, 2], [8, -5]]\n"
     ]
    }
   ],
   "execution_count": 28
  },
  {
   "metadata": {},
   "cell_type": "markdown",
   "source": [
    "The formula for Mean Squared Error is:\n",
    "\n",
    "$MSE = \\frac{1}{n} \\sum_{i=1}^n \\left( y_i - \\hat{y}_i \\right)$"
   ],
   "id": "647fe1a45b492c47"
  },
  {
   "metadata": {
    "ExecuteTime": {
     "end_time": "2025-10-02T16:33:30.665053Z",
     "start_time": "2025-10-02T16:33:30.658521Z"
    }
   },
   "cell_type": "code",
   "source": [
    "mse = mean_squared_error(y_true, y_pred)\n",
    "print(mse)"
   ],
   "id": "cb8ab782b7a5cd6c",
   "outputs": [
    {
     "name": "stdout",
     "output_type": "stream",
     "text": [
      "0.7083333333333334\n"
     ]
    }
   ],
   "execution_count": 29
  },
  {
   "metadata": {},
   "cell_type": "code",
   "outputs": [],
   "execution_count": null,
   "source": [
    "mean_squared_error(y_true, y_pred, multioutput='raw_values')\n",
    "y_true = [0.5, -1, 7]\n",
    "y_pred = [0, -1, 8]\n",
    "mean_squared_error(y_true, y_pred)\n",
    "y_true = [1, 1, -6]\n",
    "y_pred = [2, 2, -5]\n",
    "mean_squared_error(y_true, y_pred)"
   ],
   "id": "e325612b6433fa51"
  }
 ],
 "metadata": {
  "kernelspec": {
   "display_name": "Python 3",
   "language": "python",
   "name": "python3"
  },
  "language_info": {
   "codemirror_mode": {
    "name": "ipython",
    "version": 3
   },
   "file_extension": ".py",
   "mimetype": "text/x-python",
   "name": "python",
   "nbconvert_exporter": "python",
   "pygments_lexer": "ipython3",
   "version": "3.8.8"
  }
 },
 "nbformat": 4,
 "nbformat_minor": 5
}
