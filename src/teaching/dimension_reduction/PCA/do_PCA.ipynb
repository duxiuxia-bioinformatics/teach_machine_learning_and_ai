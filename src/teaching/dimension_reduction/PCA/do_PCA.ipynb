{
 "cells": [
  {
   "cell_type": "code",
   "execution_count": null,
   "id": "initial_id",
   "metadata": {
    "collapsed": true
   },
   "outputs": [],
   "source": "# Author: Xiuxia Du"
  },
  {
   "metadata": {
    "ExecuteTime": {
     "end_time": "2025-10-02T15:09:51.470295Z",
     "start_time": "2025-10-02T15:09:50.156129Z"
    }
   },
   "cell_type": "code",
   "source": [
    "import os\n",
    "import sys\n",
    "\n",
    "import numpy as np\n",
    "import matplotlib.pyplot as plt\n",
    "import pandas as pd\n",
    "\n",
    "from sklearn.preprocessing import StandardScaler\n",
    "from sklearn.decomposition import PCA"
   ],
   "id": "c3c02110d75b45ce",
   "outputs": [],
   "execution_count": 2
  },
  {
   "metadata": {
    "ExecuteTime": {
     "end_time": "2025-10-02T15:09:53.078937Z",
     "start_time": "2025-10-02T15:09:53.076139Z"
    }
   },
   "cell_type": "code",
   "source": [
    "# Get the absolute path of the current file\n",
    "try:\n",
    "    # Works in .py scripts\n",
    "    current_dir = os.path.dirname(os.path.abspath(__file__))\n",
    "except NameError:\n",
    "    # Fallback for Jupyter\n",
    "    current_dir = os.getcwd()\n",
    "\n",
    "# Go up N levels (here N=2, but you can adjust)\n",
    "project_root = os.path.abspath(os.path.join(current_dir, \"..\", '..'))\n",
    "\n",
    "# Add the project root to sys.path if not already there so that the ML_toolbox can be imported\n",
    "if project_root not in sys.path:\n",
    "    sys.path.insert(0, project_root)"
   ],
   "id": "1934295681ad6b78",
   "outputs": [],
   "execution_count": 3
  },
  {
   "metadata": {
    "ExecuteTime": {
     "end_time": "2025-10-02T15:10:01.088002Z",
     "start_time": "2025-10-02T15:10:01.084057Z"
    }
   },
   "cell_type": "code",
   "source": "from ML_toolbox.d_PCA import MyPCA",
   "id": "e91bdc60daaad80",
   "outputs": [],
   "execution_count": 4
  },
  {
   "metadata": {
    "ExecuteTime": {
     "end_time": "2025-10-02T15:10:03.860626Z",
     "start_time": "2025-10-02T15:10:03.857821Z"
    }
   },
   "cell_type": "code",
   "source": [
    "# plotting parameters\n",
    "face_color = 'white'\n",
    "marker_size = 12"
   ],
   "id": "81ac8256271f5f9d",
   "outputs": [],
   "execution_count": 5
  },
  {
   "metadata": {
    "ExecuteTime": {
     "end_time": "2025-10-02T15:10:04.796088Z",
     "start_time": "2025-10-02T15:10:04.794198Z"
    }
   },
   "cell_type": "code",
   "source": [
    "# PCA parameters\n",
    "use_corr = False"
   ],
   "id": "b6ed96b93a4089c9",
   "outputs": [],
   "execution_count": 6
  },
  {
   "metadata": {
    "ExecuteTime": {
     "end_time": "2025-10-02T15:10:08.485540Z",
     "start_time": "2025-10-02T15:10:08.482601Z"
    }
   },
   "cell_type": "code",
   "source": [
    "# create data\n",
    "x1 = np.arange(start=0, stop=20, step=0.1)\n",
    "num_of_samples = len(x1)"
   ],
   "id": "3183eb3f8507a269",
   "outputs": [],
   "execution_count": 7
  },
  {
   "metadata": {
    "ExecuteTime": {
     "end_time": "2025-10-02T15:10:25.365785Z",
     "start_time": "2025-10-02T15:10:25.363296Z"
    }
   },
   "cell_type": "code",
   "source": "standard_deviation = [0.5, 4.0]",
   "id": "5c386ed901d9201a",
   "outputs": [],
   "execution_count": 9
  },
  {
   "metadata": {
    "ExecuteTime": {
     "end_time": "2025-10-02T15:19:10.384353Z",
     "start_time": "2025-10-02T15:18:53.578802Z"
    }
   },
   "cell_type": "code",
   "source": [
    "for i in range(len(standard_deviation)):\n",
    "    cur_scale = standard_deviation[i]\n",
    "\n",
    "    # 1. generate the raw data\n",
    "    x2 = 2 * x1 + np.random.normal(loc=0, scale=cur_scale, size=num_of_samples)\n",
    "\n",
    "    # 2. visualize the raw data\n",
    "    fig = plt.figure(facecolor=face_color)\n",
    "    ax = fig.add_subplot(1, 1, 1)\n",
    "    ax.scatter(x1, x2, color='blue')\n",
    "    ax.set_xlabel('x1')\n",
    "    ax.set_ylabel('x2')\n",
    "    ax.set_facecolor(face_color)\n",
    "    ax.set_aspect('equal', 'box')\n",
    "    ax.set_title('raw data for PCA')\n",
    "\n",
    "    # 3. do PCA\n",
    "    dataForAnalysis = np.column_stack((x1, x2))\n",
    "\n",
    "    num_of_components = min(dataForAnalysis.shape[0], dataForAnalysis.shape[1])\n",
    "\n",
    "    object_pca = MyPCA(num_of_components=num_of_components)\n",
    "    pca_results = object_pca.fit_transform(x=dataForAnalysis, corr_logic=use_corr)\n",
    "\n",
    "    # scree plot\n",
    "    fig, ax = plt.subplots()\n",
    "    ax.scatter(range(len(pca_results['percent_variance_explained'])), pca_results['percent_variance_explained'], color='blue')\n",
    "    ax.set_title('scree plot')\n",
    "    ax.set_xlabel('PC index')\n",
    "    ax.set_ylabel('percent variance explained')\n",
    "    ax.set_ylim((-10.0, 110.0))\n",
    "\n",
    "    # scores plot\n",
    "    fig, ax = plt.subplots()\n",
    "    ax.scatter(pca_results['scores'][:, 0], pca_results['scores'][:, 1], color='blue')\n",
    "    ax.set_title('scores plot')\n",
    "    ax.set_xlabel('PC1')\n",
    "    ax.set_ylabel('PC2')\n",
    "\n",
    "    fig, ax = plt.subplots()\n",
    "    ax.scatter(pca_results['scores'][:, 0], pca_results['scores'][:, 1], color='blue')\n",
    "    ax.set_title('scores plot')\n",
    "    ax.set_xlabel('PC1')\n",
    "    ax.set_ylabel('PC2')\n",
    "    ax.set_ylim((2*min(pca_results['scores'][:, 1]), max(x2)))\n",
    "\n",
    "    # loadings plot\n",
    "    fig, ax = plt.subplots()\n",
    "    ax.scatter(pca_results['loadings'][:, 0], pca_results['loadings'][:, 1], color='blue')\n",
    "    ax.set_title('loadings plot')\n",
    "    ax.set_xlabel('PC1')\n",
    "    ax.set_ylabel('PC2')\n",
    "    for i in range(pca_results['loadings'].shape[0]):\n",
    "        ax.text(pca_results['loadings'][i, 0], pca_results['loadings'][i, 1], 'x'+str(i+1))\n",
    "\n",
    "    # PCA in the context of the raw data\n",
    "    k = -20\n",
    "    fig, ax = plt.subplots()\n",
    "    ax.scatter(x1, x2, color='blue')\n",
    "    ax.plot([0, k*pca_results['loadings'][0, 0]], [0, k*pca_results['loadings'][1, 0]],\n",
    "            color='red', linewidth=3, label='PC 1')\n",
    "    ax.plot([0, (-k) * pca_results['loadings'][0, 1]], [0, (-k) * pca_results['loadings'][1, 1]],\n",
    "            color='green', linewidth=3, label='PC 2')\n",
    "    ax.set_title('raw data and PC axis')\n",
    "    ax.set_aspect('equal', 'box')\n",
    "    ax.set_xlabel('x1')\n",
    "    ax.set_ylabel('x2')\n",
    "    ax.legend()\n",
    "\n",
    "    # keep only the first dimension\n",
    "    data_reconstructed = np.matmul(pca_results['scores'][:, 0].reshape((200, 1)), pca_results['loadings'][:, 0].reshape((1, 2)))\n",
    "    fig = plt.figure()\n",
    "    ax = fig.add_subplot(1, 1, 1)\n",
    "    ax.set_title('reconstructed data using PC1')\n",
    "    ax.scatter(data_reconstructed[:, 0], data_reconstructed[:, 1], color='blue')\n",
    "    ax.set_xlabel('x1')\n",
    "    ax.set_ylabel('x2')"
   ],
   "id": "e0a8c116f2e1538b",
   "outputs": [
    {
     "ename": "NameError",
     "evalue": "name 'face_color' is not defined",
     "output_type": "error",
     "traceback": [
      "\u001B[0;31m---------------------------------------------------------------------------\u001B[0m",
      "\u001B[0;31mNameError\u001B[0m                                 Traceback (most recent call last)",
      "Cell \u001B[0;32mIn[12], line 8\u001B[0m\n\u001B[1;32m      5\u001B[0m x2 \u001B[38;5;241m=\u001B[39m \u001B[38;5;241m2\u001B[39m \u001B[38;5;241m*\u001B[39m x1 \u001B[38;5;241m+\u001B[39m np\u001B[38;5;241m.\u001B[39mrandom\u001B[38;5;241m.\u001B[39mnormal(loc\u001B[38;5;241m=\u001B[39m\u001B[38;5;241m0\u001B[39m, scale\u001B[38;5;241m=\u001B[39mcur_scale, size\u001B[38;5;241m=\u001B[39mnum_of_samples)\n\u001B[1;32m      7\u001B[0m \u001B[38;5;66;03m# 2. visualize the raw data\u001B[39;00m\n\u001B[0;32m----> 8\u001B[0m fig \u001B[38;5;241m=\u001B[39m plt\u001B[38;5;241m.\u001B[39mfigure(facecolor\u001B[38;5;241m=\u001B[39mface_color)\n\u001B[1;32m      9\u001B[0m ax \u001B[38;5;241m=\u001B[39m fig\u001B[38;5;241m.\u001B[39madd_subplot(\u001B[38;5;241m1\u001B[39m, \u001B[38;5;241m1\u001B[39m, \u001B[38;5;241m1\u001B[39m)\n\u001B[1;32m     10\u001B[0m ax\u001B[38;5;241m.\u001B[39mscatter(x1, x2, color\u001B[38;5;241m=\u001B[39m\u001B[38;5;124m'\u001B[39m\u001B[38;5;124mblue\u001B[39m\u001B[38;5;124m'\u001B[39m)\n",
      "\u001B[0;31mNameError\u001B[0m: name 'face_color' is not defined"
     ]
    }
   ],
   "execution_count": 12
  },
  {
   "metadata": {},
   "cell_type": "code",
   "outputs": [],
   "execution_count": null,
   "source": "",
   "id": "234d7816ae73009d"
  }
 ],
 "metadata": {
  "kernelspec": {
   "display_name": "Python 3",
   "language": "python",
   "name": "python3"
  },
  "language_info": {
   "codemirror_mode": {
    "name": "ipython",
    "version": 2
   },
   "file_extension": ".py",
   "mimetype": "text/x-python",
   "name": "python",
   "nbconvert_exporter": "python",
   "pygments_lexer": "ipython2",
   "version": "2.7.6"
  }
 },
 "nbformat": 4,
 "nbformat_minor": 5
}
