{
 "cells": [
  {
   "cell_type": "code",
   "execution_count": null,
   "id": "initial_id",
   "metadata": {
    "collapsed": true
   },
   "outputs": [],
   "source": "# Author: Xiuxia Du"
  },
  {
   "metadata": {},
   "cell_type": "code",
   "outputs": [],
   "execution_count": null,
   "source": [
    "import os\n",
    "import sys\n",
    "\n",
    "import numpy as np\n",
    "import matplotlib.pyplot as plt\n",
    "import pandas as pd\n",
    "\n",
    "from sklearn.preprocessing import StandardScaler\n",
    "from sklearn.decomposition import PCA"
   ],
   "id": "c3c02110d75b45ce"
  },
  {
   "metadata": {},
   "cell_type": "code",
   "outputs": [],
   "execution_count": null,
   "source": [
    "# Get the absolute path of the current file\n",
    "try:\n",
    "    # Works in .py scripts\n",
    "    current_dir = os.path.dirname(os.path.abspath(__file__))\n",
    "except NameError:\n",
    "    # Fallback for Jupyter\n",
    "    current_dir = os.getcwd()\n",
    "\n",
    "# Go up N levels (here N=2, but you can adjust)\n",
    "project_root = os.path.abspath(os.path.join(current_dir, \"..\", '..'))\n",
    "\n",
    "# Add the project root to sys.path if not already there so that the ML_toolbox can be imported\n",
    "if project_root not in sys.path:\n",
    "    sys.path.insert(0, project_root)"
   ],
   "id": "1934295681ad6b78"
  },
  {
   "metadata": {},
   "cell_type": "code",
   "outputs": [],
   "execution_count": null,
   "source": "from ML_toolbox.d_PCA import MyPCA",
   "id": "e91bdc60daaad80"
  },
  {
   "metadata": {},
   "cell_type": "code",
   "outputs": [],
   "execution_count": null,
   "source": [
    "# plotting parameters\n",
    "marker_size = 12"
   ],
   "id": "81ac8256271f5f9d"
  },
  {
   "metadata": {},
   "cell_type": "code",
   "outputs": [],
   "execution_count": null,
   "source": [
    "# PCA parameters\n",
    "use_corr = False"
   ],
   "id": "b6ed96b93a4089c9"
  }
 ],
 "metadata": {
  "kernelspec": {
   "display_name": "Python 3",
   "language": "python",
   "name": "python3"
  },
  "language_info": {
   "codemirror_mode": {
    "name": "ipython",
    "version": 2
   },
   "file_extension": ".py",
   "mimetype": "text/x-python",
   "name": "python",
   "nbconvert_exporter": "python",
   "pygments_lexer": "ipython2",
   "version": "2.7.6"
  }
 },
 "nbformat": 4,
 "nbformat_minor": 5
}
