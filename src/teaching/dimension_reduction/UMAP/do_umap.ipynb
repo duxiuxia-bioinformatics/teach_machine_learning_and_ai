{
 "cells": [
  {
   "cell_type": "code",
   "id": "initial_id",
   "metadata": {
    "collapsed": true,
    "ExecuteTime": {
     "end_time": "2025-10-21T16:48:11.972696Z",
     "start_time": "2025-10-21T16:48:11.967309Z"
    }
   },
   "source": [
    "import numpy as np\n",
    "import umap\n",
    "from sklearn.datasets import load_digits\n",
    "from sklearn.preprocessing import StandardScaler\n",
    "import matplotlib.pyplot as plt"
   ],
   "outputs": [],
   "execution_count": 31
  },
  {
   "metadata": {
    "ExecuteTime": {
     "end_time": "2025-10-21T16:48:13.304113Z",
     "start_time": "2025-10-21T16:48:13.295025Z"
    }
   },
   "cell_type": "code",
   "source": [
    "digits = load_digits()\n",
    "data = digits.data\n",
    "print(data.shape)\n",
    "print(data[0:5, 0:5])"
   ],
   "id": "25e1fb0ef5d0cce2",
   "outputs": [
    {
     "name": "stdout",
     "output_type": "stream",
     "text": [
      "(1797, 64)\n",
      "[[ 0.  0.  5. 13.  9.]\n",
      " [ 0.  0.  0. 12. 13.]\n",
      " [ 0.  0.  0.  4. 15.]\n",
      " [ 0.  0.  7. 15. 13.]\n",
      " [ 0.  0.  0.  1. 11.]]\n"
     ]
    }
   ],
   "execution_count": 32
  },
  {
   "metadata": {
    "ExecuteTime": {
     "end_time": "2025-10-21T16:48:15.593823Z",
     "start_time": "2025-10-21T16:48:15.532538Z"
    }
   },
   "cell_type": "code",
   "source": [
    "target = digits.target\n",
    "print(target.shape)\n",
    "print(target[0:5])\n",
    "print(type(target))\n",
    "plt.hist(target, bins=10)"
   ],
   "id": "a0922c6c041d758d",
   "outputs": [
    {
     "name": "stdout",
     "output_type": "stream",
     "text": [
      "(1797,)\n",
      "[0 1 2 3 4]\n",
      "<class 'numpy.ndarray'>\n"
     ]
    },
    {
     "data": {
      "text/plain": [
       "(array([178., 182., 177., 183., 181., 182., 181., 179., 174., 180.]),\n",
       " array([0. , 0.9, 1.8, 2.7, 3.6, 4.5, 5.4, 6.3, 7.2, 8.1, 9. ]),\n",
       " <BarContainer object of 10 artists>)"
      ]
     },
     "execution_count": 33,
     "metadata": {},
     "output_type": "execute_result"
    },
    {
     "data": {
      "text/plain": [
       "<Figure size 640x480 with 1 Axes>"
      ],
      "image/png": "[encoded data removed]"
     },
     "metadata": {},
     "output_type": "display_data"
    }
   ],
   "execution_count": 33
  },
  {
   "metadata": {
    "ExecuteTime": {
     "end_time": "2025-10-21T16:48:21.236175Z",
     "start_time": "2025-10-21T16:48:21.226093Z"
    }
   },
   "cell_type": "code",
   "source": [
    "scaler = StandardScaler()\n",
    "data = scaler.fit_transform(data)"
   ],
   "id": "8c769c13b14a7a59",
   "outputs": [],
   "execution_count": 34
  },
  {
   "metadata": {
    "ExecuteTime": {
     "end_time": "2025-10-21T16:48:26.979768Z",
     "start_time": "2025-10-21T16:48:26.967584Z"
    }
   },
   "cell_type": "code",
   "source": [
    "# Apply UMAP\n",
    "reducer = umap.UMAP()\n",
    "embedding = reducer.fit_transform(data)\n",
    "fig, ax = plt.subplots()\n",
    "plt.scatter(embedding[:, 0], embedding[:, 1], c=digits.target, cmap='Spectral', s=5)\n",
    "plt.colorbar(boundaries=np.arange(11)-0.5).set_ticks(np.arange(10))\n",
    "plt.show()"
   ],
   "id": "f1f718da35751ea3",
   "outputs": [
    {
     "ename": "AttributeError",
     "evalue": "module 'umap' has no attribute 'UMAP'",
     "output_type": "error",
     "traceback": [
      "\u001B[0;31m---------------------------------------------------------------------------\u001B[0m",
      "\u001B[0;31mAttributeError\u001B[0m                            Traceback (most recent call last)",
      "Cell \u001B[0;32mIn[36], line 2\u001B[0m\n\u001B[1;32m      1\u001B[0m \u001B[38;5;66;03m# Apply UMAP\u001B[39;00m\n\u001B[0;32m----> 2\u001B[0m reducer \u001B[38;5;241m=\u001B[39m umap\u001B[38;5;241m.\u001B[39mUMAP()\n\u001B[1;32m      3\u001B[0m embedding \u001B[38;5;241m=\u001B[39m reducer\u001B[38;5;241m.\u001B[39mfit_transform(data)\n\u001B[1;32m      4\u001B[0m fig, ax \u001B[38;5;241m=\u001B[39m plt\u001B[38;5;241m.\u001B[39msubplots()\n",
      "\u001B[0;31mAttributeError\u001B[0m: module 'umap' has no attribute 'UMAP'"
     ]
    }
   ],
   "execution_count": 36
  },
  {
   "metadata": {},
   "cell_type": "code",
   "source": "umap.",
   "id": "c46f323caa8d19b7",
   "outputs": [],
   "execution_count": null
  }
 ],
 "metadata": {
  "kernelspec": {
   "display_name": "Python 3",
   "language": "python",
   "name": "python3"
  },
  "language_info": {
   "codemirror_mode": {
    "name": "ipython",
    "version": 2
   },
   "file_extension": ".py",
   "mimetype": "text/x-python",
   "name": "python",
   "nbconvert_exporter": "python",
   "pygments_lexer": "ipython2",
   "version": "2.7.6"
  }
 },
 "nbformat": 4,
 "nbformat_minor": 5
}
