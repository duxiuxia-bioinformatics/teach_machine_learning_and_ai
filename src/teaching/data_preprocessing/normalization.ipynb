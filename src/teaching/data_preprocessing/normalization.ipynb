{
 "cells": [
  {
   "cell_type": "code",
   "id": "initial_id",
   "metadata": {
    "collapsed": true,
    "ExecuteTime": {
     "end_time": "2025-08-29T20:45:49.594141Z",
     "start_time": "2025-08-29T20:45:49.592869Z"
    }
   },
   "source": [
    "import pandas as pd\n",
    "import seaborn as sns"
   ],
   "outputs": [],
   "execution_count": 1
  },
  {
   "metadata": {},
   "cell_type": "code",
   "outputs": [],
   "execution_count": null,
   "source": [
    "def do_pareto_scaling(x_df):\n",
    "    "
   ],
   "id": "a030d43a8e1f3fba"
  },
  {
   "metadata": {
    "ExecuteTime": {
     "end_time": "2025-08-29T20:46:00.740847Z",
     "start_time": "2025-08-29T20:46:00.722745Z"
    }
   },
   "cell_type": "code",
   "source": [
    "datain_df = pd.read_csv('../../data/SCLC_study_output_filtered_2.csv')\n",
    "print(datain_df.shape)\n"
   ],
   "id": "94476adc281c920",
   "outputs": [
    {
     "name": "stdout",
     "output_type": "stream",
     "text": [
      "(40, 20)\n"
     ]
    }
   ],
   "execution_count": 3
  },
  {
   "metadata": {},
   "cell_type": "code",
   "outputs": [],
   "execution_count": null,
   "source": "",
   "id": "dfbb8dfa13ec0c"
  }
 ],
 "metadata": {
  "kernelspec": {
   "display_name": "Python 3",
   "language": "python",
   "name": "python3"
  },
  "language_info": {
   "codemirror_mode": {
    "name": "ipython",
    "version": 2
   },
   "file_extension": ".py",
   "mimetype": "text/x-python",
   "name": "python",
   "nbconvert_exporter": "python",
   "pygments_lexer": "ipython2",
   "version": "2.7.6"
  }
 },
 "nbformat": 4,
 "nbformat_minor": 5
}
