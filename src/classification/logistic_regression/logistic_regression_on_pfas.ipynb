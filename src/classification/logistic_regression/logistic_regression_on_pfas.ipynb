{
 "cells": [
  {
   "metadata": {
    "ExecuteTime": {
     "end_time": "2025-09-09T17:37:44.841925Z",
     "start_time": "2025-09-09T17:37:42.875067Z"
    }
   },
   "cell_type": "code",
   "source": [
    "import pandas as pd\n",
    "import numpy as np\n",
    "import statsmodels.formula.api as smf\n",
    "import statsmodels.api as sm\n",
    "from scipy import stats"
   ],
   "id": "1c265ce4d6a5fab5",
   "outputs": [],
   "execution_count": 1
  },
  {
   "metadata": {
    "collapsed": true,
    "ExecuteTime": {
     "end_time": "2025-09-09T17:41:18.490095Z",
     "start_time": "2025-09-09T17:41:18.482572Z"
    }
   },
   "cell_type": "code",
   "source": [
    "in_file_full_name = '../../../data/pfas_demo.csv'\n",
    "data_in_df = pd.read_csv(in_file_full_name)\n",
    "data_in_df.head()"
   ],
   "id": "initial_id",
   "outputs": [
    {
     "data": {
      "text/plain": [
       "   disease       PFOS  age  gender        BMI\n",
       "0        0  11.741246   36       0  23.557257\n",
       "1        0   3.721879   61       0  21.576156\n",
       "2        0   5.870561   53       1  24.717870\n",
       "3        0  22.399261   31       0  23.274264\n",
       "4        0   9.348789   43       0  27.621793"
      ],
      "text/html": [
       "<div>\n",
       "<style scoped>\n",
       "    .dataframe tbody tr th:only-of-type {\n",
       "        vertical-align: middle;\n",
       "    }\n",
       "\n",
       "    .dataframe tbody tr th {\n",
       "        vertical-align: top;\n",
       "    }\n",
       "\n",
       "    .dataframe thead th {\n",
       "        text-align: right;\n",
       "    }\n",
       "</style>\n",
       "<table border=\"1\" class=\"dataframe\">\n",
       "  <thead>\n",
       "    <tr style=\"text-align: right;\">\n",
       "      <th></th>\n",
       "      <th>disease</th>\n",
       "      <th>PFOS</th>\n",
       "      <th>age</th>\n",
       "      <th>gender</th>\n",
       "      <th>BMI</th>\n",
       "    </tr>\n",
       "  </thead>\n",
       "  <tbody>\n",
       "    <tr>\n",
       "      <th>0</th>\n",
       "      <td>0</td>\n",
       "      <td>11.741246</td>\n",
       "      <td>36</td>\n",
       "      <td>0</td>\n",
       "      <td>23.557257</td>\n",
       "    </tr>\n",
       "    <tr>\n",
       "      <th>1</th>\n",
       "      <td>0</td>\n",
       "      <td>3.721879</td>\n",
       "      <td>61</td>\n",
       "      <td>0</td>\n",
       "      <td>21.576156</td>\n",
       "    </tr>\n",
       "    <tr>\n",
       "      <th>2</th>\n",
       "      <td>0</td>\n",
       "      <td>5.870561</td>\n",
       "      <td>53</td>\n",
       "      <td>1</td>\n",
       "      <td>24.717870</td>\n",
       "    </tr>\n",
       "    <tr>\n",
       "      <th>3</th>\n",
       "      <td>0</td>\n",
       "      <td>22.399261</td>\n",
       "      <td>31</td>\n",
       "      <td>0</td>\n",
       "      <td>23.274264</td>\n",
       "    </tr>\n",
       "    <tr>\n",
       "      <th>4</th>\n",
       "      <td>0</td>\n",
       "      <td>9.348789</td>\n",
       "      <td>43</td>\n",
       "      <td>0</td>\n",
       "      <td>27.621793</td>\n",
       "    </tr>\n",
       "  </tbody>\n",
       "</table>\n",
       "</div>"
      ]
     },
     "execution_count": 3,
     "metadata": {},
     "output_type": "execute_result"
    }
   ],
   "execution_count": 3
  },
  {
   "metadata": {
    "ExecuteTime": {
     "end_time": "2025-09-09T17:44:21.360235Z",
     "start_time": "2025-09-09T17:44:21.353702Z"
    }
   },
   "cell_type": "code",
   "source": [
    "# log transform PFAS\n",
    "log_pfas_column_name = f'log_PFOS'\n",
    "data_in_df[log_pfas_column_name] = np.log(data_in_df['PFOS'])\n",
    "data_in_df.head()"
   ],
   "id": "b8386aa199fdd2b3",
   "outputs": [
    {
     "data": {
      "text/plain": [
       "   disease       PFOS  age  gender        BMI  log_PFOS\n",
       "0        0  11.741246   36       0  23.557257  2.463108\n",
       "1        0   3.721879   61       0  21.576156  1.314229\n",
       "2        0   5.870561   53       1  24.717870  1.769950\n",
       "3        0  22.399261   31       0  23.274264  3.109028\n",
       "4        0   9.348789   43       0  27.621793  2.235247"
      ],
      "text/html": [
       "<div>\n",
       "<style scoped>\n",
       "    .dataframe tbody tr th:only-of-type {\n",
       "        vertical-align: middle;\n",
       "    }\n",
       "\n",
       "    .dataframe tbody tr th {\n",
       "        vertical-align: top;\n",
       "    }\n",
       "\n",
       "    .dataframe thead th {\n",
       "        text-align: right;\n",
       "    }\n",
       "</style>\n",
       "<table border=\"1\" class=\"dataframe\">\n",
       "  <thead>\n",
       "    <tr style=\"text-align: right;\">\n",
       "      <th></th>\n",
       "      <th>disease</th>\n",
       "      <th>PFOS</th>\n",
       "      <th>age</th>\n",
       "      <th>gender</th>\n",
       "      <th>BMI</th>\n",
       "      <th>log_PFOS</th>\n",
       "    </tr>\n",
       "  </thead>\n",
       "  <tbody>\n",
       "    <tr>\n",
       "      <th>0</th>\n",
       "      <td>0</td>\n",
       "      <td>11.741246</td>\n",
       "      <td>36</td>\n",
       "      <td>0</td>\n",
       "      <td>23.557257</td>\n",
       "      <td>2.463108</td>\n",
       "    </tr>\n",
       "    <tr>\n",
       "      <th>1</th>\n",
       "      <td>0</td>\n",
       "      <td>3.721879</td>\n",
       "      <td>61</td>\n",
       "      <td>0</td>\n",
       "      <td>21.576156</td>\n",
       "      <td>1.314229</td>\n",
       "    </tr>\n",
       "    <tr>\n",
       "      <th>2</th>\n",
       "      <td>0</td>\n",
       "      <td>5.870561</td>\n",
       "      <td>53</td>\n",
       "      <td>1</td>\n",
       "      <td>24.717870</td>\n",
       "      <td>1.769950</td>\n",
       "    </tr>\n",
       "    <tr>\n",
       "      <th>3</th>\n",
       "      <td>0</td>\n",
       "      <td>22.399261</td>\n",
       "      <td>31</td>\n",
       "      <td>0</td>\n",
       "      <td>23.274264</td>\n",
       "      <td>3.109028</td>\n",
       "    </tr>\n",
       "    <tr>\n",
       "      <th>4</th>\n",
       "      <td>0</td>\n",
       "      <td>9.348789</td>\n",
       "      <td>43</td>\n",
       "      <td>0</td>\n",
       "      <td>27.621793</td>\n",
       "      <td>2.235247</td>\n",
       "    </tr>\n",
       "  </tbody>\n",
       "</table>\n",
       "</div>"
      ]
     },
     "execution_count": 5,
     "metadata": {},
     "output_type": "execute_result"
    }
   ],
   "execution_count": 5
  },
  {
   "metadata": {
    "ExecuteTime": {
     "end_time": "2025-09-09T17:44:36.089451Z",
     "start_time": "2025-09-09T17:44:36.081104Z"
    }
   },
   "cell_type": "code",
   "source": [
    "# fit model 1\n",
    "covariate_columns_1 = sm.add_constant(data_in_df['log_PFOS'])\n",
    "print(covariate_columns_1)\n",
    "model_1 =sm.Logit(data_in_df['disease'], covariate_columns_1)\n",
    "result_1 = model_1.fit()\n",
    "print(result_1.summary())"
   ],
   "id": "79ce7d605fce2c45",
   "outputs": [
    {
     "name": "stdout",
     "output_type": "stream",
     "text": [
      "     const  log_PFOS\n",
      "0      1.0  2.463108\n",
      "1      1.0  1.314229\n",
      "2      1.0  1.769950\n",
      "3      1.0  3.109028\n",
      "4      1.0  2.235247\n",
      "..     ...       ...\n",
      "295    1.0  1.495473\n",
      "296    1.0  2.008583\n",
      "297    1.0  1.770568\n",
      "298    1.0  1.776932\n",
      "299    1.0  2.095647\n",
      "\n",
      "[300 rows x 2 columns]\n",
      "Optimization terminated successfully.\n",
      "         Current function value: 0.690454\n",
      "         Iterations 3\n",
      "                           Logit Regression Results                           \n",
      "==============================================================================\n",
      "Dep. Variable:                disease   No. Observations:                  300\n",
      "Model:                          Logit   Df Residuals:                      298\n",
      "Method:                           MLE   Df Model:                            1\n",
      "Date:                Tue, 09 Sep 2025   Pseudo R-squ.:               2.899e-06\n",
      "Time:                        13:44:36   Log-Likelihood:                -207.14\n",
      "converged:                       True   LL-Null:                       -207.14\n",
      "Covariance Type:            nonrobust   LLR p-value:                    0.9724\n",
      "==============================================================================\n",
      "                 coef    std err          z      P>|z|      [0.025      0.975]\n",
      "------------------------------------------------------------------------------\n",
      "const          0.1342      0.385      0.348      0.728      -0.621       0.889\n",
      "log_PFOS       0.0066      0.192      0.035      0.972      -0.369       0.382\n",
      "==============================================================================\n"
     ]
    }
   ],
   "execution_count": 7
  },
  {
   "metadata": {
    "ExecuteTime": {
     "end_time": "2025-09-03T20:55:05.964121Z",
     "start_time": "2025-09-03T20:55:05.960630Z"
    }
   },
   "cell_type": "code",
   "source": "print(result_1.params)",
   "id": "cf2952f46df86c56",
   "outputs": [
    {
     "name": "stdout",
     "output_type": "stream",
     "text": [
      "const       0.134200\n",
      "log_PFOS    0.006641\n",
      "dtype: float64\n"
     ]
    }
   ],
   "execution_count": 37
  },
  {
   "metadata": {
    "ExecuteTime": {
     "end_time": "2025-09-09T17:51:35.671505Z",
     "start_time": "2025-09-09T17:51:35.656507Z"
    }
   },
   "cell_type": "code",
   "source": [
    "# fit model 2\n",
    "covariate_columns_2 = sm.add_constant(data_in_df[['log_PFOS', 'age', 'gender', 'BMI']])\n",
    "covariate_columns_2.head()\n",
    "model_2 = sm.Logit(data_in_df['disease'], covariate_columns_2)\n",
    "result_2 = model_2.fit()\n",
    "print(result_2.summary())"
   ],
   "id": "699579ba30b63e26",
   "outputs": [
    {
     "name": "stdout",
     "output_type": "stream",
     "text": [
      "Optimization terminated successfully.\n",
      "         Current function value: 0.658576\n",
      "         Iterations 5\n",
      "                           Logit Regression Results                           \n",
      "==============================================================================\n",
      "Dep. Variable:                disease   No. Observations:                  300\n",
      "Model:                          Logit   Df Residuals:                      295\n",
      "Method:                           MLE   Df Model:                            4\n",
      "Date:                Tue, 09 Sep 2025   Pseudo R-squ.:                 0.04617\n",
      "Time:                        13:51:35   Log-Likelihood:                -197.57\n",
      "converged:                       True   LL-Null:                       -207.14\n",
      "Covariance Type:            nonrobust   LLR p-value:                 0.0007418\n",
      "==============================================================================\n",
      "                 coef    std err          z      P>|z|      [0.025      0.975]\n",
      "------------------------------------------------------------------------------\n",
      "const         -3.1764      0.953     -3.332      0.001      -5.045      -1.308\n",
      "log_PFOS       0.0558      0.200      0.280      0.780      -0.335       0.447\n",
      "age            0.0196      0.010      1.963      0.050    2.77e-05       0.039\n",
      "gender         0.5497      0.241      2.280      0.023       0.077       1.022\n",
      "BMI            0.0721      0.025      2.868      0.004       0.023       0.121\n",
      "==============================================================================\n"
     ]
    }
   ],
   "execution_count": 8
  },
  {
   "metadata": {
    "ExecuteTime": {
     "end_time": "2025-09-03T20:55:21.663880Z",
     "start_time": "2025-09-03T20:55:21.660639Z"
    }
   },
   "cell_type": "code",
   "source": "print(result_2.params)",
   "id": "4f9da6c85e67f315",
   "outputs": [
    {
     "name": "stdout",
     "output_type": "stream",
     "text": [
      "const      -3.176407\n",
      "log_PFOS    0.055781\n",
      "age         0.019553\n",
      "gender      0.549666\n",
      "BMI         0.072055\n",
      "dtype: float64\n"
     ]
    }
   ],
   "execution_count": 39
  },
  {
   "metadata": {
    "ExecuteTime": {
     "end_time": "2025-09-03T20:55:27.157299Z",
     "start_time": "2025-09-03T20:55:27.152838Z"
    }
   },
   "cell_type": "code",
   "source": [
    "beta_in_result_1 = result_1.params[log_pfas_column_name]\n",
    "beta_in_result_2 = result_2.params[log_pfas_column_name]\n",
    "percent_change = 100 *(beta_in_result_2 - beta_in_result_1) / beta_in_result_1\n",
    "percent_change"
   ],
   "id": "180d39ef3e518044",
   "outputs": [
    {
     "data": {
      "text/plain": [
       "739.9539684206452"
      ]
     },
     "execution_count": 40,
     "metadata": {},
     "output_type": "execute_result"
    }
   ],
   "execution_count": 40
  },
  {
   "metadata": {
    "ExecuteTime": {
     "end_time": "2025-09-03T20:56:01.826065Z",
     "start_time": "2025-09-03T20:56:01.822755Z"
    }
   },
   "cell_type": "code",
   "source": [
    "lr_stat = 2 * (result_2.llf - result_1.llf)\n",
    "lr_stat"
   ],
   "id": "c6e75c375895db4",
   "outputs": [
    {
     "data": {
      "text/plain": [
       "19.126635783429037"
      ]
     },
     "execution_count": 42,
     "metadata": {},
     "output_type": "execute_result"
    }
   ],
   "execution_count": 42
  },
  {
   "metadata": {
    "ExecuteTime": {
     "end_time": "2025-09-03T20:56:40.787234Z",
     "start_time": "2025-09-03T20:56:40.783917Z"
    }
   },
   "cell_type": "code",
   "source": [
    "df_diff = result_2.df_model - result_1.df_model\n",
    "df_diff"
   ],
   "id": "a4ee703f390afb71",
   "outputs": [
    {
     "data": {
      "text/plain": [
       "3.0"
      ]
     },
     "execution_count": 44,
     "metadata": {},
     "output_type": "execute_result"
    }
   ],
   "execution_count": 44
  },
  {
   "metadata": {
    "ExecuteTime": {
     "end_time": "2025-09-03T20:58:12.115862Z",
     "start_time": "2025-09-03T20:58:12.105476Z"
    }
   },
   "cell_type": "code",
   "source": [
    "p_lrt = stats.chi2.sf(lr_stat, df_diff)\n",
    "p_lrt"
   ],
   "id": "9d306a6abdf0b6ef",
   "outputs": [
    {
     "data": {
      "text/plain": [
       "0.0002574002276777569"
      ]
     },
     "execution_count": 49,
     "metadata": {},
     "output_type": "execute_result"
    }
   ],
   "execution_count": 49
  }
 ],
 "metadata": {
  "kernelspec": {
   "display_name": "Python 3",
   "language": "python",
   "name": "python3"
  },
  "language_info": {
   "codemirror_mode": {
    "name": "ipython",
    "version": 2
   },
   "file_extension": ".py",
   "mimetype": "text/x-python",
   "name": "python",
   "nbconvert_exporter": "python",
   "pygments_lexer": "ipython2",
   "version": "2.7.6"
  }
 },
 "nbformat": 4,
 "nbformat_minor": 5
}
