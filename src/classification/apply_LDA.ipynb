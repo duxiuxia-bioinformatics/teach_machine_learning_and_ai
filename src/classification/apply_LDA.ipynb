{
 "cells": [
  {
   "metadata": {
    "ExecuteTime": {
     "end_time": "2025-03-27T14:32:24.131262Z",
     "start_time": "2025-03-27T14:32:24.128952Z"
    }
   },
   "cell_type": "code",
   "source": [
    "import os\n",
    "import pandas as pd\n",
    "from sklearn.discriminant_analysis import LinearDiscriminantAnalysis as LDA"
   ],
   "id": "78787b357e88c8d9",
   "outputs": [],
   "execution_count": 4
  },
  {
   "metadata": {
    "collapsed": true,
    "ExecuteTime": {
     "end_time": "2025-03-27T14:32:25.378629Z",
     "start_time": "2025-03-27T14:32:25.375714Z"
    }
   },
   "cell_type": "code",
   "source": [
    "data_dir = '/Users/xdu4/Documents/Duxiuxia/data_and_results_for_repo/teaching_machine_learning/data'\n",
    "result_dir = '/Users/xdu4/Documents/Duxiuxia/data_and_results_for_repo/teaching_machine_learning/result/LDA'\n",
    "\n",
    "data_file_name = 'sample_data.csv'\n",
    "sample_factor_file_name = 'sample_factor.csv'"
   ],
   "id": "initial_id",
   "outputs": [],
   "execution_count": 5
  },
  {
   "metadata": {
    "ExecuteTime": {
     "end_time": "2025-03-27T14:32:31.042296Z",
     "start_time": "2025-03-27T14:32:26.852791Z"
    }
   },
   "cell_type": "code",
   "source": [
    "# make data ML-ready\n",
    "in_file_full_name = os.path.join(data_dir, data_file_name)\n",
    "data_in_df = pd.read_csv(in_file_full_name)\n",
    "\n",
    "in_file_full_name = os.path.join(data_dir, sample_factor_file_name)\n",
    "sample_factor_df = pd.read_csv(in_file_full_name)"
   ],
   "id": "a39bc74373da6dcc",
   "outputs": [],
   "execution_count": 6
  },
  {
   "metadata": {
    "ExecuteTime": {
     "end_time": "2025-03-27T14:32:34.014762Z",
     "start_time": "2025-03-27T14:32:32.799754Z"
    }
   },
   "cell_type": "code",
   "source": [
    "data_for_analysis_df = data_in_df.copy()\n",
    "data_for_analysis_df.drop(columns=['name', 'mz', 'rt'], inplace=True)\n",
    "\n",
    "for cur_sample in data_in_df.columns:\n",
    "    tf = sample_factor_df['sample_name']==cur_sample\n",
    "    cur_sample_index = sample_factor_df.loc[tf, 'sample_index']\n",
    "    \n",
    "    data_for_analysis_df.rename(columns={cur_sample:cur_sample_index}, inplace=True)\n",
    "    \n",
    "out_file_name = 'sample_data_ready_for_machine_learning.csv'\n",
    "out_file_full_name = os.path.join(result_dir, out_file_name)\n",
    "data_for_analysis_df.to_csv(out_file_name)\n",
    "    \n",
    "    \n",
    "    "
   ],
   "id": "1232291e67d7ead2",
   "outputs": [
    {
     "ename": "TypeError",
     "evalue": "unhashable type: 'Series'",
     "output_type": "error",
     "traceback": [
      "\u001B[0;31m---------------------------------------------------------------------------\u001B[0m",
      "\u001B[0;31mTypeError\u001B[0m                                 Traceback (most recent call last)",
      "Cell \u001B[0;32mIn[7], line 7\u001B[0m\n\u001B[1;32m      4\u001B[0m     tf \u001B[38;5;241m=\u001B[39m sample_factor_df[\u001B[38;5;124m'\u001B[39m\u001B[38;5;124msample_name\u001B[39m\u001B[38;5;124m'\u001B[39m]\u001B[38;5;241m==\u001B[39mcur_sample\n\u001B[1;32m      5\u001B[0m     cur_sample_index \u001B[38;5;241m=\u001B[39m sample_factor_df\u001B[38;5;241m.\u001B[39mloc[tf, \u001B[38;5;124m'\u001B[39m\u001B[38;5;124msample_index\u001B[39m\u001B[38;5;124m'\u001B[39m]\n\u001B[0;32m----> 7\u001B[0m     data_for_analysis_df\u001B[38;5;241m.\u001B[39mrename(columns\u001B[38;5;241m=\u001B[39m{cur_sample:cur_sample_index}, inplace\u001B[38;5;241m=\u001B[39m\u001B[38;5;28;01mTrue\u001B[39;00m)\n\u001B[1;32m      9\u001B[0m out_file_name \u001B[38;5;241m=\u001B[39m \u001B[38;5;124m'\u001B[39m\u001B[38;5;124msample_data_ready_for_machine_learning.csv\u001B[39m\u001B[38;5;124m'\u001B[39m\n\u001B[1;32m     10\u001B[0m out_file_full_name \u001B[38;5;241m=\u001B[39m os\u001B[38;5;241m.\u001B[39mpath\u001B[38;5;241m.\u001B[39mjoin(result_dir, out_file_name)\n",
      "File \u001B[0;32m/opt/anaconda3/lib/python3.12/site-packages/pandas/core/frame.py:5767\u001B[0m, in \u001B[0;36mDataFrame.rename\u001B[0;34m(self, mapper, index, columns, axis, copy, inplace, level, errors)\u001B[0m\n\u001B[1;32m   5636\u001B[0m \u001B[38;5;28;01mdef\u001B[39;00m \u001B[38;5;21mrename\u001B[39m(\n\u001B[1;32m   5637\u001B[0m     \u001B[38;5;28mself\u001B[39m,\n\u001B[1;32m   5638\u001B[0m     mapper: Renamer \u001B[38;5;241m|\u001B[39m \u001B[38;5;28;01mNone\u001B[39;00m \u001B[38;5;241m=\u001B[39m \u001B[38;5;28;01mNone\u001B[39;00m,\n\u001B[0;32m   (...)\u001B[0m\n\u001B[1;32m   5646\u001B[0m     errors: IgnoreRaise \u001B[38;5;241m=\u001B[39m \u001B[38;5;124m\"\u001B[39m\u001B[38;5;124mignore\u001B[39m\u001B[38;5;124m\"\u001B[39m,\n\u001B[1;32m   5647\u001B[0m ) \u001B[38;5;241m-\u001B[39m\u001B[38;5;241m>\u001B[39m DataFrame \u001B[38;5;241m|\u001B[39m \u001B[38;5;28;01mNone\u001B[39;00m:\n\u001B[1;32m   5648\u001B[0m \u001B[38;5;250m    \u001B[39m\u001B[38;5;124;03m\"\"\"\u001B[39;00m\n\u001B[1;32m   5649\u001B[0m \u001B[38;5;124;03m    Rename columns or index labels.\u001B[39;00m\n\u001B[1;32m   5650\u001B[0m \n\u001B[0;32m   (...)\u001B[0m\n\u001B[1;32m   5765\u001B[0m \u001B[38;5;124;03m    4  3  6\u001B[39;00m\n\u001B[1;32m   5766\u001B[0m \u001B[38;5;124;03m    \"\"\"\u001B[39;00m\n\u001B[0;32m-> 5767\u001B[0m     \u001B[38;5;28;01mreturn\u001B[39;00m \u001B[38;5;28msuper\u001B[39m()\u001B[38;5;241m.\u001B[39m_rename(\n\u001B[1;32m   5768\u001B[0m         mapper\u001B[38;5;241m=\u001B[39mmapper,\n\u001B[1;32m   5769\u001B[0m         index\u001B[38;5;241m=\u001B[39mindex,\n\u001B[1;32m   5770\u001B[0m         columns\u001B[38;5;241m=\u001B[39mcolumns,\n\u001B[1;32m   5771\u001B[0m         axis\u001B[38;5;241m=\u001B[39maxis,\n\u001B[1;32m   5772\u001B[0m         copy\u001B[38;5;241m=\u001B[39mcopy,\n\u001B[1;32m   5773\u001B[0m         inplace\u001B[38;5;241m=\u001B[39minplace,\n\u001B[1;32m   5774\u001B[0m         level\u001B[38;5;241m=\u001B[39mlevel,\n\u001B[1;32m   5775\u001B[0m         errors\u001B[38;5;241m=\u001B[39merrors,\n\u001B[1;32m   5776\u001B[0m     )\n",
      "File \u001B[0;32m/opt/anaconda3/lib/python3.12/site-packages/pandas/core/generic.py:1122\u001B[0m, in \u001B[0;36mNDFrame._rename\u001B[0;34m(self, mapper, index, columns, axis, copy, inplace, level, errors)\u001B[0m\n\u001B[1;32m   1120\u001B[0m     indexer \u001B[38;5;241m=\u001B[39m ax\u001B[38;5;241m.\u001B[39mget_level_values(level)\u001B[38;5;241m.\u001B[39mget_indexer_for(replacements)\n\u001B[1;32m   1121\u001B[0m \u001B[38;5;28;01melse\u001B[39;00m:\n\u001B[0;32m-> 1122\u001B[0m     indexer \u001B[38;5;241m=\u001B[39m ax\u001B[38;5;241m.\u001B[39mget_indexer_for(replacements)\n\u001B[1;32m   1124\u001B[0m \u001B[38;5;28;01mif\u001B[39;00m errors \u001B[38;5;241m==\u001B[39m \u001B[38;5;124m\"\u001B[39m\u001B[38;5;124mraise\u001B[39m\u001B[38;5;124m\"\u001B[39m \u001B[38;5;129;01mand\u001B[39;00m \u001B[38;5;28mlen\u001B[39m(indexer[indexer \u001B[38;5;241m==\u001B[39m \u001B[38;5;241m-\u001B[39m\u001B[38;5;241m1\u001B[39m]):\n\u001B[1;32m   1125\u001B[0m     missing_labels \u001B[38;5;241m=\u001B[39m [\n\u001B[1;32m   1126\u001B[0m         label\n\u001B[1;32m   1127\u001B[0m         \u001B[38;5;28;01mfor\u001B[39;00m index, label \u001B[38;5;129;01min\u001B[39;00m \u001B[38;5;28menumerate\u001B[39m(replacements)\n\u001B[1;32m   1128\u001B[0m         \u001B[38;5;28;01mif\u001B[39;00m indexer[index] \u001B[38;5;241m==\u001B[39m \u001B[38;5;241m-\u001B[39m\u001B[38;5;241m1\u001B[39m\n\u001B[1;32m   1129\u001B[0m     ]\n",
      "File \u001B[0;32m/opt/anaconda3/lib/python3.12/site-packages/pandas/core/indexes/base.py:6181\u001B[0m, in \u001B[0;36mIndex.get_indexer_for\u001B[0;34m(self, target)\u001B[0m\n\u001B[1;32m   6162\u001B[0m \u001B[38;5;129m@final\u001B[39m\n\u001B[1;32m   6163\u001B[0m \u001B[38;5;28;01mdef\u001B[39;00m \u001B[38;5;21mget_indexer_for\u001B[39m(\u001B[38;5;28mself\u001B[39m, target) \u001B[38;5;241m-\u001B[39m\u001B[38;5;241m>\u001B[39m npt\u001B[38;5;241m.\u001B[39mNDArray[np\u001B[38;5;241m.\u001B[39mintp]:\n\u001B[1;32m   6164\u001B[0m \u001B[38;5;250m    \u001B[39m\u001B[38;5;124;03m\"\"\"\u001B[39;00m\n\u001B[1;32m   6165\u001B[0m \u001B[38;5;124;03m    Guaranteed return of an indexer even when non-unique.\u001B[39;00m\n\u001B[1;32m   6166\u001B[0m \n\u001B[0;32m   (...)\u001B[0m\n\u001B[1;32m   6179\u001B[0m \u001B[38;5;124;03m    array([0, 2])\u001B[39;00m\n\u001B[1;32m   6180\u001B[0m \u001B[38;5;124;03m    \"\"\"\u001B[39;00m\n\u001B[0;32m-> 6181\u001B[0m     \u001B[38;5;28;01mif\u001B[39;00m \u001B[38;5;28mself\u001B[39m\u001B[38;5;241m.\u001B[39m_index_as_unique:\n\u001B[1;32m   6182\u001B[0m         \u001B[38;5;28;01mreturn\u001B[39;00m \u001B[38;5;28mself\u001B[39m\u001B[38;5;241m.\u001B[39mget_indexer(target)\n\u001B[1;32m   6183\u001B[0m     indexer, _ \u001B[38;5;241m=\u001B[39m \u001B[38;5;28mself\u001B[39m\u001B[38;5;241m.\u001B[39mget_indexer_non_unique(target)\n",
      "File \u001B[0;32m/opt/anaconda3/lib/python3.12/site-packages/pandas/core/indexes/base.py:6320\u001B[0m, in \u001B[0;36mIndex._index_as_unique\u001B[0;34m(self)\u001B[0m\n\u001B[1;32m   6312\u001B[0m \u001B[38;5;129m@property\u001B[39m\n\u001B[1;32m   6313\u001B[0m \u001B[38;5;28;01mdef\u001B[39;00m \u001B[38;5;21m_index_as_unique\u001B[39m(\u001B[38;5;28mself\u001B[39m) \u001B[38;5;241m-\u001B[39m\u001B[38;5;241m>\u001B[39m \u001B[38;5;28mbool\u001B[39m:\n\u001B[1;32m   6314\u001B[0m \u001B[38;5;250m    \u001B[39m\u001B[38;5;124;03m\"\"\"\u001B[39;00m\n\u001B[1;32m   6315\u001B[0m \u001B[38;5;124;03m    Whether we should treat this as unique for the sake of\u001B[39;00m\n\u001B[1;32m   6316\u001B[0m \u001B[38;5;124;03m    get_indexer vs get_indexer_non_unique.\u001B[39;00m\n\u001B[1;32m   6317\u001B[0m \n\u001B[1;32m   6318\u001B[0m \u001B[38;5;124;03m    For IntervalIndex compat.\u001B[39;00m\n\u001B[1;32m   6319\u001B[0m \u001B[38;5;124;03m    \"\"\"\u001B[39;00m\n\u001B[0;32m-> 6320\u001B[0m     \u001B[38;5;28;01mreturn\u001B[39;00m \u001B[38;5;28mself\u001B[39m\u001B[38;5;241m.\u001B[39mis_unique\n",
      "File \u001B[0;32mproperties.pyx:36\u001B[0m, in \u001B[0;36mpandas._libs.properties.CachedProperty.__get__\u001B[0;34m()\u001B[0m\n",
      "File \u001B[0;32m/opt/anaconda3/lib/python3.12/site-packages/pandas/core/indexes/base.py:2346\u001B[0m, in \u001B[0;36mIndex.is_unique\u001B[0;34m(self)\u001B[0m\n\u001B[1;32m   2313\u001B[0m \u001B[38;5;129m@cache_readonly\u001B[39m\n\u001B[1;32m   2314\u001B[0m \u001B[38;5;28;01mdef\u001B[39;00m \u001B[38;5;21mis_unique\u001B[39m(\u001B[38;5;28mself\u001B[39m) \u001B[38;5;241m-\u001B[39m\u001B[38;5;241m>\u001B[39m \u001B[38;5;28mbool\u001B[39m:\n\u001B[1;32m   2315\u001B[0m \u001B[38;5;250m    \u001B[39m\u001B[38;5;124;03m\"\"\"\u001B[39;00m\n\u001B[1;32m   2316\u001B[0m \u001B[38;5;124;03m    Return if the index has unique values.\u001B[39;00m\n\u001B[1;32m   2317\u001B[0m \n\u001B[0;32m   (...)\u001B[0m\n\u001B[1;32m   2344\u001B[0m \u001B[38;5;124;03m    True\u001B[39;00m\n\u001B[1;32m   2345\u001B[0m \u001B[38;5;124;03m    \"\"\"\u001B[39;00m\n\u001B[0;32m-> 2346\u001B[0m     \u001B[38;5;28;01mreturn\u001B[39;00m \u001B[38;5;28mself\u001B[39m\u001B[38;5;241m.\u001B[39m_engine\u001B[38;5;241m.\u001B[39mis_unique\n",
      "File \u001B[0;32mindex.pyx:266\u001B[0m, in \u001B[0;36mpandas._libs.index.IndexEngine.is_unique.__get__\u001B[0;34m()\u001B[0m\n",
      "File \u001B[0;32mindex.pyx:271\u001B[0m, in \u001B[0;36mpandas._libs.index.IndexEngine._do_unique_check\u001B[0;34m()\u001B[0m\n",
      "File \u001B[0;32mindex.pyx:333\u001B[0m, in \u001B[0;36mpandas._libs.index.IndexEngine._ensure_mapping_populated\u001B[0;34m()\u001B[0m\n",
      "File \u001B[0;32mpandas/_libs/hashtable_class_helper.pxi:7115\u001B[0m, in \u001B[0;36mpandas._libs.hashtable.PyObjectHashTable.map_locations\u001B[0;34m()\u001B[0m\n",
      "\u001B[0;31mTypeError\u001B[0m: unhashable type: 'Series'"
     ]
    }
   ],
   "execution_count": 7
  }
 ],
 "metadata": {
  "kernelspec": {
   "display_name": "Python 3",
   "language": "python",
   "name": "python3"
  },
  "language_info": {
   "codemirror_mode": {
    "name": "ipython",
    "version": 2
   },
   "file_extension": ".py",
   "mimetype": "text/x-python",
   "name": "python",
   "nbconvert_exporter": "python",
   "pygments_lexer": "ipython2",
   "version": "2.7.6"
  }
 },
 "nbformat": 4,
 "nbformat_minor": 5
}
