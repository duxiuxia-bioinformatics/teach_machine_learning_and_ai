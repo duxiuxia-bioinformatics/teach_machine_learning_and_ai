{
 "cells": [
  {
   "cell_type": "code",
   "execution_count": 73,
   "id": "c1d79023",
   "metadata": {},
   "outputs": [],
   "source": [
    "import pandas as pd\n",
    "from sklearn.preprocessing import StandardScaler"
   ]
  },
  {
   "cell_type": "code",
   "execution_count": 74,
   "id": "45a08fdf",
   "metadata": {},
   "outputs": [
    {
     "data": {
      "text/html": [
       "<div>\n",
       "<style scoped>\n",
       "    .dataframe tbody tr th:only-of-type {\n",
       "        vertical-align: middle;\n",
       "    }\n",
       "\n",
       "    .dataframe tbody tr th {\n",
       "        vertical-align: top;\n",
       "    }\n",
       "\n",
       "    .dataframe thead th {\n",
       "        text-align: right;\n",
       "    }\n",
       "</style>\n",
       "<table border=\"1\" class=\"dataframe\">\n",
       "  <thead>\n",
       "    <tr style=\"text-align: right;\">\n",
       "      <th></th>\n",
       "      <th>x</th>\n",
       "      <th>y</th>\n",
       "      <th>y_theoretical</th>\n",
       "    </tr>\n",
       "  </thead>\n",
       "  <tbody>\n",
       "    <tr>\n",
       "      <th>0</th>\n",
       "      <td>-1.919126</td>\n",
       "      <td>2.420126</td>\n",
       "      <td>2.121310</td>\n",
       "    </tr>\n",
       "    <tr>\n",
       "      <th>1</th>\n",
       "      <td>-1.715856</td>\n",
       "      <td>2.385185</td>\n",
       "      <td>2.426216</td>\n",
       "    </tr>\n",
       "    <tr>\n",
       "      <th>2</th>\n",
       "      <td>-1.651483</td>\n",
       "      <td>2.585389</td>\n",
       "      <td>2.522776</td>\n",
       "    </tr>\n",
       "    <tr>\n",
       "      <th>3</th>\n",
       "      <td>-0.466234</td>\n",
       "      <td>4.129830</td>\n",
       "      <td>4.300649</td>\n",
       "    </tr>\n",
       "    <tr>\n",
       "      <th>4</th>\n",
       "      <td>-0.305381</td>\n",
       "      <td>4.031331</td>\n",
       "      <td>4.541929</td>\n",
       "    </tr>\n",
       "  </tbody>\n",
       "</table>\n",
       "</div>"
      ],
      "text/plain": [
       "          x         y  y_theoretical\n",
       "0 -1.919126  2.420126       2.121310\n",
       "1 -1.715856  2.385185       2.426216\n",
       "2 -1.651483  2.585389       2.522776\n",
       "3 -0.466234  4.129830       4.300649\n",
       "4 -0.305381  4.031331       4.541929"
      ]
     },
     "execution_count": 74,
     "metadata": {},
     "output_type": "execute_result"
    }
   ],
   "source": [
    "in_file_name = '../../data/linear_regression_test_data.csv'\n",
    "data_in_df = pd.read_csv(in_file_name)\n",
    "\n",
    "data_in_df.head()\n"
   ]
  },
  {
   "cell_type": "code",
   "execution_count": 75,
   "id": "730cdc0e",
   "metadata": {},
   "outputs": [
    {
     "name": "stdout",
     "output_type": "stream",
     "text": [
      "(20, 3)\n"
     ]
    }
   ],
   "source": [
    "print(data_in_df.shape)\n"
   ]
  },
  {
   "cell_type": "code",
   "execution_count": 76,
   "id": "1636ba56",
   "metadata": {},
   "outputs": [
    {
     "data": {
      "text/html": [
       "<div>\n",
       "<style scoped>\n",
       "    .dataframe tbody tr th:only-of-type {\n",
       "        vertical-align: middle;\n",
       "    }\n",
       "\n",
       "    .dataframe tbody tr th {\n",
       "        vertical-align: top;\n",
       "    }\n",
       "\n",
       "    .dataframe thead th {\n",
       "        text-align: right;\n",
       "    }\n",
       "</style>\n",
       "<table border=\"1\" class=\"dataframe\">\n",
       "  <thead>\n",
       "    <tr style=\"text-align: right;\">\n",
       "      <th></th>\n",
       "      <th>x</th>\n",
       "      <th>y</th>\n",
       "      <th>y_theoretical</th>\n",
       "    </tr>\n",
       "  </thead>\n",
       "  <tbody>\n",
       "    <tr>\n",
       "      <th>0</th>\n",
       "      <td>-2.034453</td>\n",
       "      <td>-1.868396</td>\n",
       "      <td>-2.034453</td>\n",
       "    </tr>\n",
       "    <tr>\n",
       "      <th>1</th>\n",
       "      <td>-1.850274</td>\n",
       "      <td>-1.889659</td>\n",
       "      <td>-1.850274</td>\n",
       "    </tr>\n",
       "    <tr>\n",
       "      <th>2</th>\n",
       "      <td>-1.791947</td>\n",
       "      <td>-1.767830</td>\n",
       "      <td>-1.791947</td>\n",
       "    </tr>\n",
       "    <tr>\n",
       "      <th>3</th>\n",
       "      <td>-0.718022</td>\n",
       "      <td>-0.828010</td>\n",
       "      <td>-0.718022</td>\n",
       "    </tr>\n",
       "    <tr>\n",
       "      <th>4</th>\n",
       "      <td>-0.572277</td>\n",
       "      <td>-0.887948</td>\n",
       "      <td>-0.572277</td>\n",
       "    </tr>\n",
       "  </tbody>\n",
       "</table>\n",
       "</div>"
      ],
      "text/plain": [
       "          x         y  y_theoretical\n",
       "0 -2.034453 -1.868396      -2.034453\n",
       "1 -1.850274 -1.889659      -1.850274\n",
       "2 -1.791947 -1.767830      -1.791947\n",
       "3 -0.718022 -0.828010      -0.718022\n",
       "4 -0.572277 -0.887948      -0.572277"
      ]
     },
     "execution_count": 76,
     "metadata": {},
     "output_type": "execute_result"
    }
   ],
   "source": [
    "data_normalized_1_df = pd.DataFrame(StandardScaler().fit_transform(data_in_df), index=data_in_df.index, columns=data_in_df.columns)\n",
    "data_normalized_1_df.head()"
   ]
  },
  {
   "cell_type": "code",
   "execution_count": 77,
   "id": "d72e40e2",
   "metadata": {},
   "outputs": [
    {
     "data": {
      "text/html": [
       "<div>\n",
       "<style scoped>\n",
       "    .dataframe tbody tr th:only-of-type {\n",
       "        vertical-align: middle;\n",
       "    }\n",
       "\n",
       "    .dataframe tbody tr th {\n",
       "        vertical-align: top;\n",
       "    }\n",
       "\n",
       "    .dataframe thead th {\n",
       "        text-align: right;\n",
       "    }\n",
       "</style>\n",
       "<table border=\"1\" class=\"dataframe\">\n",
       "  <thead>\n",
       "    <tr style=\"text-align: right;\">\n",
       "      <th></th>\n",
       "      <th>x</th>\n",
       "      <th>y</th>\n",
       "      <th>y_theoretical</th>\n",
       "    </tr>\n",
       "  </thead>\n",
       "  <tbody>\n",
       "    <tr>\n",
       "      <th>0</th>\n",
       "      <td>0.326219</td>\n",
       "      <td>5.490528</td>\n",
       "      <td>5.489329</td>\n",
       "    </tr>\n",
       "  </tbody>\n",
       "</table>\n",
       "</div>"
      ],
      "text/plain": [
       "          x         y  y_theoretical\n",
       "0  0.326219  5.490528       5.489329"
      ]
     },
     "execution_count": 77,
     "metadata": {},
     "output_type": "execute_result"
    }
   ],
   "source": [
    "mean_series = data_in_df.mean()\n",
    "mean_df = mean_series.to_frame().T\n",
    "mean_df\n",
    "# mean = pd.DataFrame(mean_series, columns=data_in_df.columns)\n"
   ]
  },
  {
   "cell_type": "code",
   "execution_count": 78,
   "id": "d891e62e",
   "metadata": {},
   "outputs": [
    {
     "data": {
      "text/html": [
       "<div>\n",
       "<style scoped>\n",
       "    .dataframe tbody tr th:only-of-type {\n",
       "        vertical-align: middle;\n",
       "    }\n",
       "\n",
       "    .dataframe tbody tr th {\n",
       "        vertical-align: top;\n",
       "    }\n",
       "\n",
       "    .dataframe thead th {\n",
       "        text-align: right;\n",
       "    }\n",
       "</style>\n",
       "<table border=\"1\" class=\"dataframe\">\n",
       "  <thead>\n",
       "    <tr style=\"text-align: right;\">\n",
       "      <th></th>\n",
       "      <th>x</th>\n",
       "      <th>y</th>\n",
       "      <th>y_theoretical</th>\n",
       "    </tr>\n",
       "  </thead>\n",
       "  <tbody>\n",
       "    <tr>\n",
       "      <th>0</th>\n",
       "      <td>0.326219</td>\n",
       "      <td>5.490528</td>\n",
       "      <td>5.489329</td>\n",
       "    </tr>\n",
       "    <tr>\n",
       "      <th>1</th>\n",
       "      <td>0.326219</td>\n",
       "      <td>5.490528</td>\n",
       "      <td>5.489329</td>\n",
       "    </tr>\n",
       "    <tr>\n",
       "      <th>2</th>\n",
       "      <td>0.326219</td>\n",
       "      <td>5.490528</td>\n",
       "      <td>5.489329</td>\n",
       "    </tr>\n",
       "    <tr>\n",
       "      <th>3</th>\n",
       "      <td>0.326219</td>\n",
       "      <td>5.490528</td>\n",
       "      <td>5.489329</td>\n",
       "    </tr>\n",
       "    <tr>\n",
       "      <th>4</th>\n",
       "      <td>0.326219</td>\n",
       "      <td>5.490528</td>\n",
       "      <td>5.489329</td>\n",
       "    </tr>\n",
       "  </tbody>\n",
       "</table>\n",
       "</div>"
      ],
      "text/plain": [
       "          x         y  y_theoretical\n",
       "0  0.326219  5.490528       5.489329\n",
       "1  0.326219  5.490528       5.489329\n",
       "2  0.326219  5.490528       5.489329\n",
       "3  0.326219  5.490528       5.489329\n",
       "4  0.326219  5.490528       5.489329"
      ]
     },
     "execution_count": 78,
     "metadata": {},
     "output_type": "execute_result"
    }
   ],
   "source": [
    "mean_df = pd.concat([mean_df] * data_in_df.shape[0], axis=0, ignore_index=True)\n",
    "mean_df.set_index(data_in_df.index, inplace=True)\n",
    "mean_df.head()"
   ]
  },
  {
   "cell_type": "code",
   "execution_count": 79,
   "id": "11fae0ba",
   "metadata": {},
   "outputs": [
    {
     "data": {
      "text/plain": [
       "(20, 3)"
      ]
     },
     "execution_count": 79,
     "metadata": {},
     "output_type": "execute_result"
    }
   ],
   "source": [
    "mean_df.shape"
   ]
  },
  {
   "cell_type": "code",
   "execution_count": 80,
   "id": "08a48e71",
   "metadata": {},
   "outputs": [
    {
     "data": {
      "text/html": [
       "<div>\n",
       "<style scoped>\n",
       "    .dataframe tbody tr th:only-of-type {\n",
       "        vertical-align: middle;\n",
       "    }\n",
       "\n",
       "    .dataframe tbody tr th {\n",
       "        vertical-align: top;\n",
       "    }\n",
       "\n",
       "    .dataframe thead th {\n",
       "        text-align: right;\n",
       "    }\n",
       "</style>\n",
       "<table border=\"1\" class=\"dataframe\">\n",
       "  <thead>\n",
       "    <tr style=\"text-align: right;\">\n",
       "      <th></th>\n",
       "      <th>x</th>\n",
       "      <th>y</th>\n",
       "      <th>y_theoretical</th>\n",
       "    </tr>\n",
       "  </thead>\n",
       "  <tbody>\n",
       "    <tr>\n",
       "      <th>0</th>\n",
       "      <td>1.132332</td>\n",
       "      <td>1.686026</td>\n",
       "      <td>1.698498</td>\n",
       "    </tr>\n",
       "  </tbody>\n",
       "</table>\n",
       "</div>"
      ],
      "text/plain": [
       "          x         y  y_theoretical\n",
       "0  1.132332  1.686026       1.698498"
      ]
     },
     "execution_count": 80,
     "metadata": {},
     "output_type": "execute_result"
    }
   ],
   "source": [
    "std_series = data_in_df.std()\n",
    "std_df = std_series.to_frame().T\n",
    "std_df"
   ]
  },
  {
   "cell_type": "code",
   "execution_count": 81,
   "id": "5fb4b277",
   "metadata": {},
   "outputs": [
    {
     "data": {
      "text/html": [
       "<div>\n",
       "<style scoped>\n",
       "    .dataframe tbody tr th:only-of-type {\n",
       "        vertical-align: middle;\n",
       "    }\n",
       "\n",
       "    .dataframe tbody tr th {\n",
       "        vertical-align: top;\n",
       "    }\n",
       "\n",
       "    .dataframe thead th {\n",
       "        text-align: right;\n",
       "    }\n",
       "</style>\n",
       "<table border=\"1\" class=\"dataframe\">\n",
       "  <thead>\n",
       "    <tr style=\"text-align: right;\">\n",
       "      <th></th>\n",
       "      <th>x</th>\n",
       "      <th>y</th>\n",
       "      <th>y_theoretical</th>\n",
       "    </tr>\n",
       "  </thead>\n",
       "  <tbody>\n",
       "    <tr>\n",
       "      <th>0</th>\n",
       "      <td>1.132332</td>\n",
       "      <td>1.686026</td>\n",
       "      <td>1.698498</td>\n",
       "    </tr>\n",
       "    <tr>\n",
       "      <th>1</th>\n",
       "      <td>1.132332</td>\n",
       "      <td>1.686026</td>\n",
       "      <td>1.698498</td>\n",
       "    </tr>\n",
       "    <tr>\n",
       "      <th>2</th>\n",
       "      <td>1.132332</td>\n",
       "      <td>1.686026</td>\n",
       "      <td>1.698498</td>\n",
       "    </tr>\n",
       "    <tr>\n",
       "      <th>3</th>\n",
       "      <td>1.132332</td>\n",
       "      <td>1.686026</td>\n",
       "      <td>1.698498</td>\n",
       "    </tr>\n",
       "    <tr>\n",
       "      <th>4</th>\n",
       "      <td>1.132332</td>\n",
       "      <td>1.686026</td>\n",
       "      <td>1.698498</td>\n",
       "    </tr>\n",
       "  </tbody>\n",
       "</table>\n",
       "</div>"
      ],
      "text/plain": [
       "          x         y  y_theoretical\n",
       "0  1.132332  1.686026       1.698498\n",
       "1  1.132332  1.686026       1.698498\n",
       "2  1.132332  1.686026       1.698498\n",
       "3  1.132332  1.686026       1.698498\n",
       "4  1.132332  1.686026       1.698498"
      ]
     },
     "execution_count": 81,
     "metadata": {},
     "output_type": "execute_result"
    }
   ],
   "source": [
    "std_df = pd.concat([std_df] * data_in_df.shape[0], axis=0, ignore_index=True)\n",
    "std_df.head()"
   ]
  },
  {
   "cell_type": "code",
   "execution_count": 82,
   "id": "326955bc",
   "metadata": {},
   "outputs": [
    {
     "data": {
      "text/html": [
       "<div>\n",
       "<style scoped>\n",
       "    .dataframe tbody tr th:only-of-type {\n",
       "        vertical-align: middle;\n",
       "    }\n",
       "\n",
       "    .dataframe tbody tr th {\n",
       "        vertical-align: top;\n",
       "    }\n",
       "\n",
       "    .dataframe thead th {\n",
       "        text-align: right;\n",
       "    }\n",
       "</style>\n",
       "<table border=\"1\" class=\"dataframe\">\n",
       "  <thead>\n",
       "    <tr style=\"text-align: right;\">\n",
       "      <th></th>\n",
       "      <th>x</th>\n",
       "      <th>y</th>\n",
       "      <th>y_theoretical</th>\n",
       "    </tr>\n",
       "  </thead>\n",
       "  <tbody>\n",
       "    <tr>\n",
       "      <th>0</th>\n",
       "      <td>1.132332</td>\n",
       "      <td>1.686026</td>\n",
       "      <td>1.698498</td>\n",
       "    </tr>\n",
       "    <tr>\n",
       "      <th>1</th>\n",
       "      <td>1.132332</td>\n",
       "      <td>1.686026</td>\n",
       "      <td>1.698498</td>\n",
       "    </tr>\n",
       "    <tr>\n",
       "      <th>2</th>\n",
       "      <td>1.132332</td>\n",
       "      <td>1.686026</td>\n",
       "      <td>1.698498</td>\n",
       "    </tr>\n",
       "    <tr>\n",
       "      <th>3</th>\n",
       "      <td>1.132332</td>\n",
       "      <td>1.686026</td>\n",
       "      <td>1.698498</td>\n",
       "    </tr>\n",
       "    <tr>\n",
       "      <th>4</th>\n",
       "      <td>1.132332</td>\n",
       "      <td>1.686026</td>\n",
       "      <td>1.698498</td>\n",
       "    </tr>\n",
       "  </tbody>\n",
       "</table>\n",
       "</div>"
      ],
      "text/plain": [
       "          x         y  y_theoretical\n",
       "0  1.132332  1.686026       1.698498\n",
       "1  1.132332  1.686026       1.698498\n",
       "2  1.132332  1.686026       1.698498\n",
       "3  1.132332  1.686026       1.698498\n",
       "4  1.132332  1.686026       1.698498"
      ]
     },
     "execution_count": 82,
     "metadata": {},
     "output_type": "execute_result"
    }
   ],
   "source": [
    "std_df.set_index(data_in_df.index, inplace=True)\n",
    "std_df.head()"
   ]
  },
  {
   "cell_type": "code",
   "execution_count": 83,
   "id": "be3dbc53",
   "metadata": {},
   "outputs": [
    {
     "data": {
      "text/html": [
       "<div>\n",
       "<style scoped>\n",
       "    .dataframe tbody tr th:only-of-type {\n",
       "        vertical-align: middle;\n",
       "    }\n",
       "\n",
       "    .dataframe tbody tr th {\n",
       "        vertical-align: top;\n",
       "    }\n",
       "\n",
       "    .dataframe thead th {\n",
       "        text-align: right;\n",
       "    }\n",
       "</style>\n",
       "<table border=\"1\" class=\"dataframe\">\n",
       "  <thead>\n",
       "    <tr style=\"text-align: right;\">\n",
       "      <th></th>\n",
       "      <th>x</th>\n",
       "      <th>y</th>\n",
       "      <th>y_theoretical</th>\n",
       "    </tr>\n",
       "  </thead>\n",
       "  <tbody>\n",
       "    <tr>\n",
       "      <th>0</th>\n",
       "      <td>-1.982939</td>\n",
       "      <td>-1.821087</td>\n",
       "      <td>-1.982939</td>\n",
       "    </tr>\n",
       "    <tr>\n",
       "      <th>1</th>\n",
       "      <td>-1.803424</td>\n",
       "      <td>-1.841811</td>\n",
       "      <td>-1.803424</td>\n",
       "    </tr>\n",
       "    <tr>\n",
       "      <th>2</th>\n",
       "      <td>-1.746574</td>\n",
       "      <td>-1.723068</td>\n",
       "      <td>-1.746574</td>\n",
       "    </tr>\n",
       "    <tr>\n",
       "      <th>3</th>\n",
       "      <td>-0.699842</td>\n",
       "      <td>-0.807044</td>\n",
       "      <td>-0.699842</td>\n",
       "    </tr>\n",
       "    <tr>\n",
       "      <th>4</th>\n",
       "      <td>-0.557787</td>\n",
       "      <td>-0.865465</td>\n",
       "      <td>-0.557787</td>\n",
       "    </tr>\n",
       "  </tbody>\n",
       "</table>\n",
       "</div>"
      ],
      "text/plain": [
       "          x         y  y_theoretical\n",
       "0 -1.982939 -1.821087      -1.982939\n",
       "1 -1.803424 -1.841811      -1.803424\n",
       "2 -1.746574 -1.723068      -1.746574\n",
       "3 -0.699842 -0.807044      -0.699842\n",
       "4 -0.557787 -0.865465      -0.557787"
      ]
     },
     "execution_count": 83,
     "metadata": {},
     "output_type": "execute_result"
    }
   ],
   "source": [
    "# standardization\n",
    "standardized_df = (data_in_df - mean_df) / std_df\n",
    "standardized_df.head()"
   ]
  },
  {
   "cell_type": "markdown",
   "id": "1f202338",
   "metadata": {},
   "source": [
    "To get the results that the StandardScaler gets, the ddof has to be set to 0."
   ]
  },
  {
   "cell_type": "code",
   "execution_count": 84,
   "id": "7a55b386",
   "metadata": {},
   "outputs": [
    {
     "data": {
      "text/html": [
       "<div>\n",
       "<style scoped>\n",
       "    .dataframe tbody tr th:only-of-type {\n",
       "        vertical-align: middle;\n",
       "    }\n",
       "\n",
       "    .dataframe tbody tr th {\n",
       "        vertical-align: top;\n",
       "    }\n",
       "\n",
       "    .dataframe thead th {\n",
       "        text-align: right;\n",
       "    }\n",
       "</style>\n",
       "<table border=\"1\" class=\"dataframe\">\n",
       "  <thead>\n",
       "    <tr style=\"text-align: right;\">\n",
       "      <th></th>\n",
       "      <th>x</th>\n",
       "      <th>y</th>\n",
       "      <th>y_theoretical</th>\n",
       "    </tr>\n",
       "  </thead>\n",
       "  <tbody>\n",
       "    <tr>\n",
       "      <th>0</th>\n",
       "      <td>-2.034453</td>\n",
       "      <td>-1.868396</td>\n",
       "      <td>-2.034453</td>\n",
       "    </tr>\n",
       "    <tr>\n",
       "      <th>1</th>\n",
       "      <td>-1.850274</td>\n",
       "      <td>-1.889659</td>\n",
       "      <td>-1.850274</td>\n",
       "    </tr>\n",
       "    <tr>\n",
       "      <th>2</th>\n",
       "      <td>-1.791947</td>\n",
       "      <td>-1.767830</td>\n",
       "      <td>-1.791947</td>\n",
       "    </tr>\n",
       "    <tr>\n",
       "      <th>3</th>\n",
       "      <td>-0.718022</td>\n",
       "      <td>-0.828010</td>\n",
       "      <td>-0.718022</td>\n",
       "    </tr>\n",
       "    <tr>\n",
       "      <th>4</th>\n",
       "      <td>-0.572277</td>\n",
       "      <td>-0.887948</td>\n",
       "      <td>-0.572277</td>\n",
       "    </tr>\n",
       "  </tbody>\n",
       "</table>\n",
       "</div>"
      ],
      "text/plain": [
       "          x         y  y_theoretical\n",
       "0 -2.034453 -1.868396      -2.034453\n",
       "1 -1.850274 -1.889659      -1.850274\n",
       "2 -1.791947 -1.767830      -1.791947\n",
       "3 -0.718022 -0.828010      -0.718022\n",
       "4 -0.572277 -0.887948      -0.572277"
      ]
     },
     "execution_count": 84,
     "metadata": {},
     "output_type": "execute_result"
    }
   ],
   "source": [
    "standardized_data_df = pd.DataFrame(index=data_in_df.index, columns=data_in_df.columns)\n",
    "\n",
    "# scale one column at a time\n",
    "for cur_col in data_in_df.columns:\n",
    "    cur_mean = data_in_df[cur_col].mean()\n",
    "    cur_std = data_in_df[cur_col].std(ddof=0)\n",
    "    standardized_data_df[cur_col] = (data_in_df[cur_col] - cur_mean) / cur_std\n",
    "standardized_data_df.head()"
   ]
  }
 ],
 "metadata": {
  "kernelspec": {
   "display_name": "base",
   "language": "python",
   "name": "python3"
  },
  "language_info": {
   "codemirror_mode": {
    "name": "ipython",
    "version": 3
   },
   "file_extension": ".py",
   "mimetype": "text/x-python",
   "name": "python",
   "nbconvert_exporter": "python",
   "pygments_lexer": "ipython3",
   "version": "3.12.4"
  }
 },
 "nbformat": 4,
 "nbformat_minor": 5
}
